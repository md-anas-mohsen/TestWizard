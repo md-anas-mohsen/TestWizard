{
  "cells": [
    {
      "cell_type": "markdown",
      "source": [
        "# Setup"
      ],
      "metadata": {
        "id": "Stlikcm3XG-u"
      }
    },
    {
      "cell_type": "markdown",
      "source": [
        "## Installs"
      ],
      "metadata": {
        "id": "eb9pMlT6XKUB"
      }
    },
    {
      "cell_type": "code",
      "execution_count": 1,
      "metadata": {
        "colab": {
          "base_uri": "https://localhost:8080/"
        },
        "id": "CXV9jzfQhWZF",
        "outputId": "1e1a63b3-9648-4b32-c99a-8e78e976afd2"
      },
      "outputs": [
        {
          "output_type": "stream",
          "name": "stdout",
          "text": [
            "Collecting PyPDF2\n",
            "  Downloading pypdf2-3.0.1-py3-none-any.whl (232 kB)\n",
            "\u001b[2K     \u001b[90m━━━━━━━━━━━━━━━━━━━━━━━━━━━━━━━━━━━━━━━━\u001b[0m \u001b[32m232.6/232.6 kB\u001b[0m \u001b[31m3.2 MB/s\u001b[0m eta \u001b[36m0:00:00\u001b[0m\n",
            "\u001b[?25hInstalling collected packages: PyPDF2\n",
            "Successfully installed PyPDF2-3.0.1\n",
            "Collecting openai\n",
            "  Downloading openai-1.25.1-py3-none-any.whl (312 kB)\n",
            "\u001b[2K     \u001b[90m━━━━━━━━━━━━━━━━━━━━━━━━━━━━━━━━━━━━━━━━\u001b[0m \u001b[32m312.9/312.9 kB\u001b[0m \u001b[31m3.2 MB/s\u001b[0m eta \u001b[36m0:00:00\u001b[0m\n",
            "\u001b[?25hRequirement already satisfied: anyio<5,>=3.5.0 in /usr/local/lib/python3.10/dist-packages (from openai) (3.7.1)\n",
            "Requirement already satisfied: distro<2,>=1.7.0 in /usr/lib/python3/dist-packages (from openai) (1.7.0)\n",
            "Collecting httpx<1,>=0.23.0 (from openai)\n",
            "  Downloading httpx-0.27.0-py3-none-any.whl (75 kB)\n",
            "\u001b[2K     \u001b[90m━━━━━━━━━━━━━━━━━━━━━━━━━━━━━━━━━━━━━━━━\u001b[0m \u001b[32m75.6/75.6 kB\u001b[0m \u001b[31m3.3 MB/s\u001b[0m eta \u001b[36m0:00:00\u001b[0m\n",
            "\u001b[?25hRequirement already satisfied: pydantic<3,>=1.9.0 in /usr/local/lib/python3.10/dist-packages (from openai) (2.7.1)\n",
            "Requirement already satisfied: sniffio in /usr/local/lib/python3.10/dist-packages (from openai) (1.3.1)\n",
            "Requirement already satisfied: tqdm>4 in /usr/local/lib/python3.10/dist-packages (from openai) (4.66.2)\n",
            "Requirement already satisfied: typing-extensions<5,>=4.7 in /usr/local/lib/python3.10/dist-packages (from openai) (4.11.0)\n",
            "Requirement already satisfied: idna>=2.8 in /usr/local/lib/python3.10/dist-packages (from anyio<5,>=3.5.0->openai) (3.7)\n",
            "Requirement already satisfied: exceptiongroup in /usr/local/lib/python3.10/dist-packages (from anyio<5,>=3.5.0->openai) (1.2.1)\n",
            "Requirement already satisfied: certifi in /usr/local/lib/python3.10/dist-packages (from httpx<1,>=0.23.0->openai) (2024.2.2)\n",
            "Collecting httpcore==1.* (from httpx<1,>=0.23.0->openai)\n",
            "  Downloading httpcore-1.0.5-py3-none-any.whl (77 kB)\n",
            "\u001b[2K     \u001b[90m━━━━━━━━━━━━━━━━━━━━━━━━━━━━━━━━━━━━━━━━\u001b[0m \u001b[32m77.9/77.9 kB\u001b[0m \u001b[31m4.4 MB/s\u001b[0m eta \u001b[36m0:00:00\u001b[0m\n",
            "\u001b[?25hCollecting h11<0.15,>=0.13 (from httpcore==1.*->httpx<1,>=0.23.0->openai)\n",
            "  Downloading h11-0.14.0-py3-none-any.whl (58 kB)\n",
            "\u001b[2K     \u001b[90m━━━━━━━━━━━━━━━━━━━━━━━━━━━━━━━━━━━━━━━━\u001b[0m \u001b[32m58.3/58.3 kB\u001b[0m \u001b[31m3.8 MB/s\u001b[0m eta \u001b[36m0:00:00\u001b[0m\n",
            "\u001b[?25hRequirement already satisfied: annotated-types>=0.4.0 in /usr/local/lib/python3.10/dist-packages (from pydantic<3,>=1.9.0->openai) (0.6.0)\n",
            "Requirement already satisfied: pydantic-core==2.18.2 in /usr/local/lib/python3.10/dist-packages (from pydantic<3,>=1.9.0->openai) (2.18.2)\n",
            "Installing collected packages: h11, httpcore, httpx, openai\n",
            "Successfully installed h11-0.14.0 httpcore-1.0.5 httpx-0.27.0 openai-1.25.1\n",
            "Requirement already satisfied: google-generativeai in /usr/local/lib/python3.10/dist-packages (0.5.2)\n",
            "Requirement already satisfied: google-ai-generativelanguage==0.6.2 in /usr/local/lib/python3.10/dist-packages (from google-generativeai) (0.6.2)\n",
            "Requirement already satisfied: google-api-core in /usr/local/lib/python3.10/dist-packages (from google-generativeai) (2.11.1)\n",
            "Requirement already satisfied: google-api-python-client in /usr/local/lib/python3.10/dist-packages (from google-generativeai) (2.84.0)\n",
            "Requirement already satisfied: google-auth>=2.15.0 in /usr/local/lib/python3.10/dist-packages (from google-generativeai) (2.27.0)\n",
            "Requirement already satisfied: protobuf in /usr/local/lib/python3.10/dist-packages (from google-generativeai) (3.20.3)\n",
            "Requirement already satisfied: pydantic in /usr/local/lib/python3.10/dist-packages (from google-generativeai) (2.7.1)\n",
            "Requirement already satisfied: tqdm in /usr/local/lib/python3.10/dist-packages (from google-generativeai) (4.66.2)\n",
            "Requirement already satisfied: typing-extensions in /usr/local/lib/python3.10/dist-packages (from google-generativeai) (4.11.0)\n",
            "Requirement already satisfied: proto-plus<2.0.0dev,>=1.22.3 in /usr/local/lib/python3.10/dist-packages (from google-ai-generativelanguage==0.6.2->google-generativeai) (1.23.0)\n",
            "Requirement already satisfied: cachetools<6.0,>=2.0.0 in /usr/local/lib/python3.10/dist-packages (from google-auth>=2.15.0->google-generativeai) (5.3.3)\n",
            "Requirement already satisfied: pyasn1-modules>=0.2.1 in /usr/local/lib/python3.10/dist-packages (from google-auth>=2.15.0->google-generativeai) (0.4.0)\n",
            "Requirement already satisfied: rsa<5,>=3.1.4 in /usr/local/lib/python3.10/dist-packages (from google-auth>=2.15.0->google-generativeai) (4.9)\n",
            "Requirement already satisfied: googleapis-common-protos<2.0.dev0,>=1.56.2 in /usr/local/lib/python3.10/dist-packages (from google-api-core->google-generativeai) (1.63.0)\n",
            "Requirement already satisfied: requests<3.0.0.dev0,>=2.18.0 in /usr/local/lib/python3.10/dist-packages (from google-api-core->google-generativeai) (2.31.0)\n",
            "Requirement already satisfied: httplib2<1dev,>=0.15.0 in /usr/local/lib/python3.10/dist-packages (from google-api-python-client->google-generativeai) (0.22.0)\n",
            "Requirement already satisfied: google-auth-httplib2>=0.1.0 in /usr/local/lib/python3.10/dist-packages (from google-api-python-client->google-generativeai) (0.1.1)\n",
            "Requirement already satisfied: uritemplate<5,>=3.0.1 in /usr/local/lib/python3.10/dist-packages (from google-api-python-client->google-generativeai) (4.1.1)\n",
            "Requirement already satisfied: annotated-types>=0.4.0 in /usr/local/lib/python3.10/dist-packages (from pydantic->google-generativeai) (0.6.0)\n",
            "Requirement already satisfied: pydantic-core==2.18.2 in /usr/local/lib/python3.10/dist-packages (from pydantic->google-generativeai) (2.18.2)\n",
            "Requirement already satisfied: grpcio<2.0dev,>=1.33.2 in /usr/local/lib/python3.10/dist-packages (from google-api-core->google-generativeai) (1.63.0)\n",
            "Requirement already satisfied: grpcio-status<2.0.dev0,>=1.33.2 in /usr/local/lib/python3.10/dist-packages (from google-api-core->google-generativeai) (1.48.2)\n",
            "Requirement already satisfied: pyparsing!=3.0.0,!=3.0.1,!=3.0.2,!=3.0.3,<4,>=2.4.2 in /usr/local/lib/python3.10/dist-packages (from httplib2<1dev,>=0.15.0->google-api-python-client->google-generativeai) (3.1.2)\n",
            "Requirement already satisfied: pyasn1<0.7.0,>=0.4.6 in /usr/local/lib/python3.10/dist-packages (from pyasn1-modules>=0.2.1->google-auth>=2.15.0->google-generativeai) (0.6.0)\n",
            "Requirement already satisfied: charset-normalizer<4,>=2 in /usr/local/lib/python3.10/dist-packages (from requests<3.0.0.dev0,>=2.18.0->google-api-core->google-generativeai) (3.3.2)\n",
            "Requirement already satisfied: idna<4,>=2.5 in /usr/local/lib/python3.10/dist-packages (from requests<3.0.0.dev0,>=2.18.0->google-api-core->google-generativeai) (3.7)\n",
            "Requirement already satisfied: urllib3<3,>=1.21.1 in /usr/local/lib/python3.10/dist-packages (from requests<3.0.0.dev0,>=2.18.0->google-api-core->google-generativeai) (2.0.7)\n",
            "Requirement already satisfied: certifi>=2017.4.17 in /usr/local/lib/python3.10/dist-packages (from requests<3.0.0.dev0,>=2.18.0->google-api-core->google-generativeai) (2024.2.2)\n",
            "Collecting flask-ngrok\n",
            "  Downloading flask_ngrok-0.0.25-py3-none-any.whl (3.1 kB)\n",
            "Requirement already satisfied: Flask>=0.8 in /usr/local/lib/python3.10/dist-packages (from flask-ngrok) (2.2.5)\n",
            "Requirement already satisfied: requests in /usr/local/lib/python3.10/dist-packages (from flask-ngrok) (2.31.0)\n",
            "Requirement already satisfied: Werkzeug>=2.2.2 in /usr/local/lib/python3.10/dist-packages (from Flask>=0.8->flask-ngrok) (3.0.2)\n",
            "Requirement already satisfied: Jinja2>=3.0 in /usr/local/lib/python3.10/dist-packages (from Flask>=0.8->flask-ngrok) (3.1.3)\n",
            "Requirement already satisfied: itsdangerous>=2.0 in /usr/local/lib/python3.10/dist-packages (from Flask>=0.8->flask-ngrok) (2.2.0)\n",
            "Requirement already satisfied: click>=8.0 in /usr/local/lib/python3.10/dist-packages (from Flask>=0.8->flask-ngrok) (8.1.7)\n",
            "Requirement already satisfied: charset-normalizer<4,>=2 in /usr/local/lib/python3.10/dist-packages (from requests->flask-ngrok) (3.3.2)\n",
            "Requirement already satisfied: idna<4,>=2.5 in /usr/local/lib/python3.10/dist-packages (from requests->flask-ngrok) (3.7)\n",
            "Requirement already satisfied: urllib3<3,>=1.21.1 in /usr/local/lib/python3.10/dist-packages (from requests->flask-ngrok) (2.0.7)\n",
            "Requirement already satisfied: certifi>=2017.4.17 in /usr/local/lib/python3.10/dist-packages (from requests->flask-ngrok) (2024.2.2)\n",
            "Requirement already satisfied: MarkupSafe>=2.0 in /usr/local/lib/python3.10/dist-packages (from Jinja2>=3.0->Flask>=0.8->flask-ngrok) (2.1.5)\n",
            "Installing collected packages: flask-ngrok\n",
            "Successfully installed flask-ngrok-0.0.25\n",
            "Collecting pyngrok\n",
            "  Downloading pyngrok-7.1.6-py3-none-any.whl (22 kB)\n",
            "Requirement already satisfied: PyYAML>=5.1 in /usr/local/lib/python3.10/dist-packages (from pyngrok) (6.0.1)\n",
            "Installing collected packages: pyngrok\n",
            "Successfully installed pyngrok-7.1.6\n"
          ]
        }
      ],
      "source": [
        "!pip install PyPDF2\n",
        "!pip install openai\n",
        "!pip install -U google-generativeai\n",
        "!pip install flask-ngrok\n",
        "!pip install pyngrok"
      ]
    },
    {
      "cell_type": "markdown",
      "source": [
        "## Imports"
      ],
      "metadata": {
        "id": "jINX0hD-XNG6"
      }
    },
    {
      "cell_type": "code",
      "execution_count": 2,
      "metadata": {
        "id": "FEsEOfqEhEcM"
      },
      "outputs": [],
      "source": [
        "import PyPDF2\n",
        "import google.generativeai as palm\n",
        "import os\n",
        "import pandas as pd\n",
        "import numpy as np\n",
        "import textwrap\n",
        "import json"
      ]
    },
    {
      "cell_type": "markdown",
      "source": [
        "## Document parsing"
      ],
      "metadata": {
        "id": "2Txkh5pLXOh4"
      }
    },
    {
      "cell_type": "code",
      "execution_count": 29,
      "metadata": {
        "colab": {
          "base_uri": "https://localhost:8080/",
          "height": 89
        },
        "id": "vF0Q3G8Og0m_",
        "outputId": "d677a2bd-c242-41da-b9bf-92474bc73eef"
      },
      "outputs": [
        {
          "output_type": "execute_result",
          "data": {
            "text/plain": [
              "              Filename                                               Text\n",
              "0  System Software.pdf  System Software  \\nOperating System  \\nNeed fo..."
            ],
            "text/html": [
              "\n",
              "  <div id=\"df-b4a51533-010b-4372-ac2f-b19f03a97530\" class=\"colab-df-container\">\n",
              "    <div>\n",
              "<style scoped>\n",
              "    .dataframe tbody tr th:only-of-type {\n",
              "        vertical-align: middle;\n",
              "    }\n",
              "\n",
              "    .dataframe tbody tr th {\n",
              "        vertical-align: top;\n",
              "    }\n",
              "\n",
              "    .dataframe thead th {\n",
              "        text-align: right;\n",
              "    }\n",
              "</style>\n",
              "<table border=\"1\" class=\"dataframe\">\n",
              "  <thead>\n",
              "    <tr style=\"text-align: right;\">\n",
              "      <th></th>\n",
              "      <th>Filename</th>\n",
              "      <th>Text</th>\n",
              "    </tr>\n",
              "  </thead>\n",
              "  <tbody>\n",
              "    <tr>\n",
              "      <th>0</th>\n",
              "      <td>System Software.pdf</td>\n",
              "      <td>System Software  \\nOperating System  \\nNeed fo...</td>\n",
              "    </tr>\n",
              "  </tbody>\n",
              "</table>\n",
              "</div>\n",
              "    <div class=\"colab-df-buttons\">\n",
              "\n",
              "  <div class=\"colab-df-container\">\n",
              "    <button class=\"colab-df-convert\" onclick=\"convertToInteractive('df-b4a51533-010b-4372-ac2f-b19f03a97530')\"\n",
              "            title=\"Convert this dataframe to an interactive table.\"\n",
              "            style=\"display:none;\">\n",
              "\n",
              "  <svg xmlns=\"http://www.w3.org/2000/svg\" height=\"24px\" viewBox=\"0 -960 960 960\">\n",
              "    <path d=\"M120-120v-720h720v720H120Zm60-500h600v-160H180v160Zm220 220h160v-160H400v160Zm0 220h160v-160H400v160ZM180-400h160v-160H180v160Zm440 0h160v-160H620v160ZM180-180h160v-160H180v160Zm440 0h160v-160H620v160Z\"/>\n",
              "  </svg>\n",
              "    </button>\n",
              "\n",
              "  <style>\n",
              "    .colab-df-container {\n",
              "      display:flex;\n",
              "      gap: 12px;\n",
              "    }\n",
              "\n",
              "    .colab-df-convert {\n",
              "      background-color: #E8F0FE;\n",
              "      border: none;\n",
              "      border-radius: 50%;\n",
              "      cursor: pointer;\n",
              "      display: none;\n",
              "      fill: #1967D2;\n",
              "      height: 32px;\n",
              "      padding: 0 0 0 0;\n",
              "      width: 32px;\n",
              "    }\n",
              "\n",
              "    .colab-df-convert:hover {\n",
              "      background-color: #E2EBFA;\n",
              "      box-shadow: 0px 1px 2px rgba(60, 64, 67, 0.3), 0px 1px 3px 1px rgba(60, 64, 67, 0.15);\n",
              "      fill: #174EA6;\n",
              "    }\n",
              "\n",
              "    .colab-df-buttons div {\n",
              "      margin-bottom: 4px;\n",
              "    }\n",
              "\n",
              "    [theme=dark] .colab-df-convert {\n",
              "      background-color: #3B4455;\n",
              "      fill: #D2E3FC;\n",
              "    }\n",
              "\n",
              "    [theme=dark] .colab-df-convert:hover {\n",
              "      background-color: #434B5C;\n",
              "      box-shadow: 0px 1px 3px 1px rgba(0, 0, 0, 0.15);\n",
              "      filter: drop-shadow(0px 1px 2px rgba(0, 0, 0, 0.3));\n",
              "      fill: #FFFFFF;\n",
              "    }\n",
              "  </style>\n",
              "\n",
              "    <script>\n",
              "      const buttonEl =\n",
              "        document.querySelector('#df-b4a51533-010b-4372-ac2f-b19f03a97530 button.colab-df-convert');\n",
              "      buttonEl.style.display =\n",
              "        google.colab.kernel.accessAllowed ? 'block' : 'none';\n",
              "\n",
              "      async function convertToInteractive(key) {\n",
              "        const element = document.querySelector('#df-b4a51533-010b-4372-ac2f-b19f03a97530');\n",
              "        const dataTable =\n",
              "          await google.colab.kernel.invokeFunction('convertToInteractive',\n",
              "                                                    [key], {});\n",
              "        if (!dataTable) return;\n",
              "\n",
              "        const docLinkHtml = 'Like what you see? Visit the ' +\n",
              "          '<a target=\"_blank\" href=https://colab.research.google.com/notebooks/data_table.ipynb>data table notebook</a>'\n",
              "          + ' to learn more about interactive tables.';\n",
              "        element.innerHTML = '';\n",
              "        dataTable['output_type'] = 'display_data';\n",
              "        await google.colab.output.renderOutput(dataTable, element);\n",
              "        const docLink = document.createElement('div');\n",
              "        docLink.innerHTML = docLinkHtml;\n",
              "        element.appendChild(docLink);\n",
              "      }\n",
              "    </script>\n",
              "  </div>\n",
              "\n",
              "\n",
              "  <div id=\"id_344d9144-2658-4c24-9abe-742b768cab89\">\n",
              "    <style>\n",
              "      .colab-df-generate {\n",
              "        background-color: #E8F0FE;\n",
              "        border: none;\n",
              "        border-radius: 50%;\n",
              "        cursor: pointer;\n",
              "        display: none;\n",
              "        fill: #1967D2;\n",
              "        height: 32px;\n",
              "        padding: 0 0 0 0;\n",
              "        width: 32px;\n",
              "      }\n",
              "\n",
              "      .colab-df-generate:hover {\n",
              "        background-color: #E2EBFA;\n",
              "        box-shadow: 0px 1px 2px rgba(60, 64, 67, 0.3), 0px 1px 3px 1px rgba(60, 64, 67, 0.15);\n",
              "        fill: #174EA6;\n",
              "      }\n",
              "\n",
              "      [theme=dark] .colab-df-generate {\n",
              "        background-color: #3B4455;\n",
              "        fill: #D2E3FC;\n",
              "      }\n",
              "\n",
              "      [theme=dark] .colab-df-generate:hover {\n",
              "        background-color: #434B5C;\n",
              "        box-shadow: 0px 1px 3px 1px rgba(0, 0, 0, 0.15);\n",
              "        filter: drop-shadow(0px 1px 2px rgba(0, 0, 0, 0.3));\n",
              "        fill: #FFFFFF;\n",
              "      }\n",
              "    </style>\n",
              "    <button class=\"colab-df-generate\" onclick=\"generateWithVariable('df')\"\n",
              "            title=\"Generate code using this dataframe.\"\n",
              "            style=\"display:none;\">\n",
              "\n",
              "  <svg xmlns=\"http://www.w3.org/2000/svg\" height=\"24px\"viewBox=\"0 0 24 24\"\n",
              "       width=\"24px\">\n",
              "    <path d=\"M7,19H8.4L18.45,9,17,7.55,7,17.6ZM5,21V16.75L18.45,3.32a2,2,0,0,1,2.83,0l1.4,1.43a1.91,1.91,0,0,1,.58,1.4,1.91,1.91,0,0,1-.58,1.4L9.25,21ZM18.45,9,17,7.55Zm-12,3A5.31,5.31,0,0,0,4.9,8.1,5.31,5.31,0,0,0,1,6.5,5.31,5.31,0,0,0,4.9,4.9,5.31,5.31,0,0,0,6.5,1,5.31,5.31,0,0,0,8.1,4.9,5.31,5.31,0,0,0,12,6.5,5.46,5.46,0,0,0,6.5,12Z\"/>\n",
              "  </svg>\n",
              "    </button>\n",
              "    <script>\n",
              "      (() => {\n",
              "      const buttonEl =\n",
              "        document.querySelector('#id_344d9144-2658-4c24-9abe-742b768cab89 button.colab-df-generate');\n",
              "      buttonEl.style.display =\n",
              "        google.colab.kernel.accessAllowed ? 'block' : 'none';\n",
              "\n",
              "      buttonEl.onclick = () => {\n",
              "        google.colab.notebook.generateWithVariable('df');\n",
              "      }\n",
              "      })();\n",
              "    </script>\n",
              "  </div>\n",
              "\n",
              "    </div>\n",
              "  </div>\n"
            ],
            "application/vnd.google.colaboratory.intrinsic+json": {
              "type": "dataframe",
              "variable_name": "df",
              "summary": "{\n  \"name\": \"df\",\n  \"rows\": 1,\n  \"fields\": [\n    {\n      \"column\": \"Filename\",\n      \"properties\": {\n        \"dtype\": \"string\",\n        \"num_unique_values\": 1,\n        \"samples\": [\n          \"System Software.pdf\"\n        ],\n        \"semantic_type\": \"\",\n        \"description\": \"\"\n      }\n    },\n    {\n      \"column\": \"Text\",\n      \"properties\": {\n        \"dtype\": \"string\",\n        \"num_unique_values\": 1,\n        \"samples\": [\n          \"System Software  \\nOperating System  \\nNeed for OS  \\nA set of programs designed to run in the background on a computer system which  \\nControls operation of computer system  \\nProvides a user interface  \\nControls how computer responds to user\\u2019s requests  \\nControls how hardware communicate  \\nProvides an environment in which application software can be executed  \\nOS hardware is unusable without an OS, as the OS acts as an interface since it controls communication \\nbetween user and hardware  \\nKey Management Tasks  \\n(Main) Memory Management  \\nMemory protection to ensure 2 programs do not try to use same memory space  \\nPaging  \\nUse of virtual memory  \\nFile Management  \\nProvides file naming conventions  \\nMaintains a directory structure  \\nAllocates space to particular files  \\nSecurity Management  \\nProves usernames & passwords  \\nEnsures data privacy  \\nPrevents unauthorized access  \\nCarries out automatic backup  \\nHardware (input/output/peripherals) Management  \\nInstallation of appropriate driver software  \\nControls access to data sent to and from peripherals  \\nReceives & handles interrupts from hardware devices  Process Management  \\nEnables multiprogramming and multitasking  \\nResolution of conflicts when 2 or more processes requires the same resource  \\nE.g. via Round -robin method  \\nUtility Software  \\nDisk Formatter  \\nPrepares a hard disk to allow data to be stored on it  \\nDeletes any existing data on disk  \\nPerforms formatting, process where computer \\u2018draws lines\\u2019 on disk surface to split it into small areas  \\nVirus checker  \\nChecks for and then removes any viruses found  \\nConstantly checks all incoming and outgoing files  \\nDefragmentation Software  \\nFiles can be big so have to be stored in multiple sectors, which can result in fragmentation (contents of \\nfile scattered across >2 non -contiguous sectors)  \\nFragmentation slows down disk access and thus the performance of the entire computer.  \\nDefragmenting software works by physically reorganizing disk contents (files) such that they are stored in \\ncontiguous sectors.  \\nThis defragmentation reduces number of movements of the read/write heads require to access the disk \\ncontents, hence increasing computer performance  \\nThe defragmentation also creates larger contiguous free space regions  \\nDisk contents analysis/disk repair software  \\nSoftware utility for visualization of disk space usage  \\nGets size for each folder and files, and generates a graphical chart showing disk usage distribution \\naccording to folders or other user defined criteria.  \\nAllows disk to report errors (e.g. \\u201cbad sector\\u201d)  \\nSoftware will attempt to offer a solution  \\nFile Compression  \\nReduces file size by removing redundant data in files  \\nCauses improvements in the computer\\u2019s performance by reducing the data that needs to be stored  Back -up Software  \\nMakes copy of files on another storage medium in the event of a hard drive failure, user error, disaster or \\naccident.  \\nShould be a regular process  \\nCan provide synchronization between devices  \\nProgram Libraries  \\nPre-written code that can be linked to a software under development without any amendments  \\nCan perform common or complex tasks  \\nTakes the form of classes  \\nBenefits:  \\nSaves time: less code needs to be written  \\nSmaller testing time: pre -tested and used by others  \\nLibrary file is a complex algorithm which the user does not need to understand to use it  \\nDynamic Link Library (DLL) files  \\nShared library file that contains code and data  \\nCode saved separately from the main .EXE file, reducing the .EXE file\\u2019s size  \\nCode only loaded to main memory when required  \\nDDL file can be made available to several applications simultaneously, thus reducing strain on memory  \\nDLL files act as modules in more complex programs, making it easier to install and run updates  \\nLanguage Translators  \\nAssembler  \\nSoftware that translates assembly language statements into machine code (binary) for execution  \\nThe mnemonics used translates into machine opcodes  \\nProcess simple because assembly language has a one -to-one relationship with machine code.  \\nCompiler and Interpreter  \\nCompiler  Interpreter  \\nTranslates a high -level language program to machine code.  Translates and executes a high -level \\nlanguage program, line -by-line.  \\nCreates a .exe file which can be easily distributed.  No .exe file created.  Once compiled, .exe file does not need to be compiled again, resulting in faster execution.\\n Execution very slow \\u2013 translated each time program run.  \\nReports all errors at the end of compilation: difficult to locate errors \\u2234 development process long.\\n Debugging easier/faster, since it stops translating when it reaches an error. This allows real time \\nerror correction.  \\nOnly be produced when all errors are fixed.  Can run program any time, even before code finished.  \\nUsed when development is completed.  Used during development.  \\nTwo-step translation  \\nJava and some other high level language programs may require two -step translation, i.e., they will be \\npartially compiled and partially interpreted  \\nJava code first translated to bytecode by Java compiler  \\nBytecode finally interpreted by the Java Virtual Machine to produce machine code  \\nIntegrated Development Environment (IDE) features  \\nCoding  \\nContext -sensitive prompts: Displays choice of keywords and available identifiers appropriate at current \\ninsertion point and provides choices in alphabetical order  \\nHighlights undeclared/unassigned variable identifiers  \\nInitial Error Detection  \\nDynamic syntax checks: Automatic checking and highlighting of syntax errors, as soon as line typed  \\nType checking & parameter checking  \\nPresentation  \\nPrettyprint: Automatic indentation and color -coding of keywords  \\nExpand and Collapse code blocks: Saves excessive scrolling if collapsed, and easy to see global variable \\ndeclarations and main program body when collapsed  \\nDebugging  \\nSingle stepping: Executes program line -by-line to see the effect of each statement on variables  \\nBreakpoints: Pauses program at a specific line to ensure program operates correctly up to that line  \\nVariables/expressions Report Window: Monitors variables for comparing values.  \"\n        ],\n        \"semantic_type\": \"\",\n        \"description\": \"\"\n      }\n    }\n  ]\n}"
            }
          },
          "metadata": {},
          "execution_count": 29
        }
      ],
      "source": [
        "file_dict = {}\n",
        "\n",
        "def extract_text_from_pdf(file_path):\n",
        "    with open(file_path, 'rb') as file:\n",
        "        pdf_reader = PyPDF2.PdfReader(file)\n",
        "        text = ''\n",
        "        for page in pdf_reader.pages:\n",
        "            text += page.extract_text()\n",
        "    return text\n",
        "\n",
        "def process_pdfs_in_folder(folder_path):\n",
        "    # Check if the folder exists\n",
        "    if not os.path.isdir(folder_path):\n",
        "        print(f\"Folder '{folder_path}' does not exist.\")\n",
        "        return\n",
        "\n",
        "    # Get a list of files in the folder\n",
        "    files = os.listdir(folder_path)\n",
        "\n",
        "    # Iterate through each file\n",
        "    for file_name in files:\n",
        "        file_path = os.path.join(folder_path, file_name)\n",
        "\n",
        "        # Check if it's a PDF file\n",
        "        if file_name.lower().endswith('.pdf'):\n",
        "            # Extract text from the PDF file\n",
        "            text = extract_text_from_pdf(file_path)\n",
        "            file_dict[file_name] = text\n",
        "\n",
        "process_pdfs_in_folder(\"/content/Documents\")\n",
        "# Convert the dictionary to a dataframe\n",
        "df = pd.DataFrame(list(file_dict.items()), columns=['Filename', 'Text'])\n",
        "df"
      ]
    },
    {
      "cell_type": "markdown",
      "source": [
        "## API Setup"
      ],
      "metadata": {
        "id": "jar6ADUzXT7n"
      }
    },
    {
      "cell_type": "markdown",
      "source": [
        "### API key"
      ],
      "metadata": {
        "id": "kRCoXozIapQa"
      }
    },
    {
      "cell_type": "code",
      "source": [
        "API_KEY_GOOGLE_AI='YOUR KEY'"
      ],
      "metadata": {
        "id": "mZYLVjRCag4W"
      },
      "execution_count": 70,
      "outputs": []
    },
    {
      "cell_type": "markdown",
      "source": [
        "### API Config"
      ],
      "metadata": {
        "id": "vDG78Lb-aunX"
      }
    },
    {
      "cell_type": "code",
      "execution_count": 6,
      "metadata": {
        "id": "Slhqc9sze1CE"
      },
      "outputs": [],
      "source": [
        "palm.configure(api_key=API_KEY_GOOGLE_AI)"
      ]
    },
    {
      "cell_type": "markdown",
      "source": [
        "## Document Data"
      ],
      "metadata": {
        "id": "G1uiKw-jXff_"
      }
    },
    {
      "cell_type": "code",
      "execution_count": 30,
      "metadata": {
        "colab": {
          "base_uri": "https://localhost:8080/",
          "height": 89
        },
        "id": "ln5XRuXefmMg",
        "outputId": "9bf3616f-7ef0-49a9-d84c-dbb6a93bb250"
      },
      "outputs": [
        {
          "output_type": "execute_result",
          "data": {
            "text/plain": [
              "              Filename                                               Text\n",
              "0  System Software.pdf  System Software  \\nOperating System  \\nNeed fo..."
            ],
            "text/html": [
              "\n",
              "  <div id=\"df-b17d6345-eace-426f-a9b6-5eb03bda80a3\" class=\"colab-df-container\">\n",
              "    <div>\n",
              "<style scoped>\n",
              "    .dataframe tbody tr th:only-of-type {\n",
              "        vertical-align: middle;\n",
              "    }\n",
              "\n",
              "    .dataframe tbody tr th {\n",
              "        vertical-align: top;\n",
              "    }\n",
              "\n",
              "    .dataframe thead th {\n",
              "        text-align: right;\n",
              "    }\n",
              "</style>\n",
              "<table border=\"1\" class=\"dataframe\">\n",
              "  <thead>\n",
              "    <tr style=\"text-align: right;\">\n",
              "      <th></th>\n",
              "      <th>Filename</th>\n",
              "      <th>Text</th>\n",
              "    </tr>\n",
              "  </thead>\n",
              "  <tbody>\n",
              "    <tr>\n",
              "      <th>0</th>\n",
              "      <td>System Software.pdf</td>\n",
              "      <td>System Software  \\nOperating System  \\nNeed fo...</td>\n",
              "    </tr>\n",
              "  </tbody>\n",
              "</table>\n",
              "</div>\n",
              "    <div class=\"colab-df-buttons\">\n",
              "\n",
              "  <div class=\"colab-df-container\">\n",
              "    <button class=\"colab-df-convert\" onclick=\"convertToInteractive('df-b17d6345-eace-426f-a9b6-5eb03bda80a3')\"\n",
              "            title=\"Convert this dataframe to an interactive table.\"\n",
              "            style=\"display:none;\">\n",
              "\n",
              "  <svg xmlns=\"http://www.w3.org/2000/svg\" height=\"24px\" viewBox=\"0 -960 960 960\">\n",
              "    <path d=\"M120-120v-720h720v720H120Zm60-500h600v-160H180v160Zm220 220h160v-160H400v160Zm0 220h160v-160H400v160ZM180-400h160v-160H180v160Zm440 0h160v-160H620v160ZM180-180h160v-160H180v160Zm440 0h160v-160H620v160Z\"/>\n",
              "  </svg>\n",
              "    </button>\n",
              "\n",
              "  <style>\n",
              "    .colab-df-container {\n",
              "      display:flex;\n",
              "      gap: 12px;\n",
              "    }\n",
              "\n",
              "    .colab-df-convert {\n",
              "      background-color: #E8F0FE;\n",
              "      border: none;\n",
              "      border-radius: 50%;\n",
              "      cursor: pointer;\n",
              "      display: none;\n",
              "      fill: #1967D2;\n",
              "      height: 32px;\n",
              "      padding: 0 0 0 0;\n",
              "      width: 32px;\n",
              "    }\n",
              "\n",
              "    .colab-df-convert:hover {\n",
              "      background-color: #E2EBFA;\n",
              "      box-shadow: 0px 1px 2px rgba(60, 64, 67, 0.3), 0px 1px 3px 1px rgba(60, 64, 67, 0.15);\n",
              "      fill: #174EA6;\n",
              "    }\n",
              "\n",
              "    .colab-df-buttons div {\n",
              "      margin-bottom: 4px;\n",
              "    }\n",
              "\n",
              "    [theme=dark] .colab-df-convert {\n",
              "      background-color: #3B4455;\n",
              "      fill: #D2E3FC;\n",
              "    }\n",
              "\n",
              "    [theme=dark] .colab-df-convert:hover {\n",
              "      background-color: #434B5C;\n",
              "      box-shadow: 0px 1px 3px 1px rgba(0, 0, 0, 0.15);\n",
              "      filter: drop-shadow(0px 1px 2px rgba(0, 0, 0, 0.3));\n",
              "      fill: #FFFFFF;\n",
              "    }\n",
              "  </style>\n",
              "\n",
              "    <script>\n",
              "      const buttonEl =\n",
              "        document.querySelector('#df-b17d6345-eace-426f-a9b6-5eb03bda80a3 button.colab-df-convert');\n",
              "      buttonEl.style.display =\n",
              "        google.colab.kernel.accessAllowed ? 'block' : 'none';\n",
              "\n",
              "      async function convertToInteractive(key) {\n",
              "        const element = document.querySelector('#df-b17d6345-eace-426f-a9b6-5eb03bda80a3');\n",
              "        const dataTable =\n",
              "          await google.colab.kernel.invokeFunction('convertToInteractive',\n",
              "                                                    [key], {});\n",
              "        if (!dataTable) return;\n",
              "\n",
              "        const docLinkHtml = 'Like what you see? Visit the ' +\n",
              "          '<a target=\"_blank\" href=https://colab.research.google.com/notebooks/data_table.ipynb>data table notebook</a>'\n",
              "          + ' to learn more about interactive tables.';\n",
              "        element.innerHTML = '';\n",
              "        dataTable['output_type'] = 'display_data';\n",
              "        await google.colab.output.renderOutput(dataTable, element);\n",
              "        const docLink = document.createElement('div');\n",
              "        docLink.innerHTML = docLinkHtml;\n",
              "        element.appendChild(docLink);\n",
              "      }\n",
              "    </script>\n",
              "  </div>\n",
              "\n",
              "\n",
              "  <div id=\"id_4862ed87-bb26-4071-9fe8-e5882c1019e6\">\n",
              "    <style>\n",
              "      .colab-df-generate {\n",
              "        background-color: #E8F0FE;\n",
              "        border: none;\n",
              "        border-radius: 50%;\n",
              "        cursor: pointer;\n",
              "        display: none;\n",
              "        fill: #1967D2;\n",
              "        height: 32px;\n",
              "        padding: 0 0 0 0;\n",
              "        width: 32px;\n",
              "      }\n",
              "\n",
              "      .colab-df-generate:hover {\n",
              "        background-color: #E2EBFA;\n",
              "        box-shadow: 0px 1px 2px rgba(60, 64, 67, 0.3), 0px 1px 3px 1px rgba(60, 64, 67, 0.15);\n",
              "        fill: #174EA6;\n",
              "      }\n",
              "\n",
              "      [theme=dark] .colab-df-generate {\n",
              "        background-color: #3B4455;\n",
              "        fill: #D2E3FC;\n",
              "      }\n",
              "\n",
              "      [theme=dark] .colab-df-generate:hover {\n",
              "        background-color: #434B5C;\n",
              "        box-shadow: 0px 1px 3px 1px rgba(0, 0, 0, 0.15);\n",
              "        filter: drop-shadow(0px 1px 2px rgba(0, 0, 0, 0.3));\n",
              "        fill: #FFFFFF;\n",
              "      }\n",
              "    </style>\n",
              "    <button class=\"colab-df-generate\" onclick=\"generateWithVariable('df')\"\n",
              "            title=\"Generate code using this dataframe.\"\n",
              "            style=\"display:none;\">\n",
              "\n",
              "  <svg xmlns=\"http://www.w3.org/2000/svg\" height=\"24px\"viewBox=\"0 0 24 24\"\n",
              "       width=\"24px\">\n",
              "    <path d=\"M7,19H8.4L18.45,9,17,7.55,7,17.6ZM5,21V16.75L18.45,3.32a2,2,0,0,1,2.83,0l1.4,1.43a1.91,1.91,0,0,1,.58,1.4,1.91,1.91,0,0,1-.58,1.4L9.25,21ZM18.45,9,17,7.55Zm-12,3A5.31,5.31,0,0,0,4.9,8.1,5.31,5.31,0,0,0,1,6.5,5.31,5.31,0,0,0,4.9,4.9,5.31,5.31,0,0,0,6.5,1,5.31,5.31,0,0,0,8.1,4.9,5.31,5.31,0,0,0,12,6.5,5.46,5.46,0,0,0,6.5,12Z\"/>\n",
              "  </svg>\n",
              "    </button>\n",
              "    <script>\n",
              "      (() => {\n",
              "      const buttonEl =\n",
              "        document.querySelector('#id_4862ed87-bb26-4071-9fe8-e5882c1019e6 button.colab-df-generate');\n",
              "      buttonEl.style.display =\n",
              "        google.colab.kernel.accessAllowed ? 'block' : 'none';\n",
              "\n",
              "      buttonEl.onclick = () => {\n",
              "        google.colab.notebook.generateWithVariable('df');\n",
              "      }\n",
              "      })();\n",
              "    </script>\n",
              "  </div>\n",
              "\n",
              "    </div>\n",
              "  </div>\n"
            ],
            "application/vnd.google.colaboratory.intrinsic+json": {
              "type": "dataframe",
              "variable_name": "df",
              "summary": "{\n  \"name\": \"df\",\n  \"rows\": 1,\n  \"fields\": [\n    {\n      \"column\": \"Filename\",\n      \"properties\": {\n        \"dtype\": \"string\",\n        \"num_unique_values\": 1,\n        \"samples\": [\n          \"System Software.pdf\"\n        ],\n        \"semantic_type\": \"\",\n        \"description\": \"\"\n      }\n    },\n    {\n      \"column\": \"Text\",\n      \"properties\": {\n        \"dtype\": \"string\",\n        \"num_unique_values\": 1,\n        \"samples\": [\n          \"System Software  \\nOperating System  \\nNeed for OS  \\nA set of programs designed to run in the background on a computer system which  \\nControls operation of computer system  \\nProvides a user interface  \\nControls how computer responds to user\\u2019s requests  \\nControls how hardware communicate  \\nProvides an environment in which application software can be executed  \\nOS hardware is unusable without an OS, as the OS acts as an interface since it controls communication \\nbetween user and hardware  \\nKey Management Tasks  \\n(Main) Memory Management  \\nMemory protection to ensure 2 programs do not try to use same memory space  \\nPaging  \\nUse of virtual memory  \\nFile Management  \\nProvides file naming conventions  \\nMaintains a directory structure  \\nAllocates space to particular files  \\nSecurity Management  \\nProves usernames & passwords  \\nEnsures data privacy  \\nPrevents unauthorized access  \\nCarries out automatic backup  \\nHardware (input/output/peripherals) Management  \\nInstallation of appropriate driver software  \\nControls access to data sent to and from peripherals  \\nReceives & handles interrupts from hardware devices  Process Management  \\nEnables multiprogramming and multitasking  \\nResolution of conflicts when 2 or more processes requires the same resource  \\nE.g. via Round -robin method  \\nUtility Software  \\nDisk Formatter  \\nPrepares a hard disk to allow data to be stored on it  \\nDeletes any existing data on disk  \\nPerforms formatting, process where computer \\u2018draws lines\\u2019 on disk surface to split it into small areas  \\nVirus checker  \\nChecks for and then removes any viruses found  \\nConstantly checks all incoming and outgoing files  \\nDefragmentation Software  \\nFiles can be big so have to be stored in multiple sectors, which can result in fragmentation (contents of \\nfile scattered across >2 non -contiguous sectors)  \\nFragmentation slows down disk access and thus the performance of the entire computer.  \\nDefragmenting software works by physically reorganizing disk contents (files) such that they are stored in \\ncontiguous sectors.  \\nThis defragmentation reduces number of movements of the read/write heads require to access the disk \\ncontents, hence increasing computer performance  \\nThe defragmentation also creates larger contiguous free space regions  \\nDisk contents analysis/disk repair software  \\nSoftware utility for visualization of disk space usage  \\nGets size for each folder and files, and generates a graphical chart showing disk usage distribution \\naccording to folders or other user defined criteria.  \\nAllows disk to report errors (e.g. \\u201cbad sector\\u201d)  \\nSoftware will attempt to offer a solution  \\nFile Compression  \\nReduces file size by removing redundant data in files  \\nCauses improvements in the computer\\u2019s performance by reducing the data that needs to be stored  Back -up Software  \\nMakes copy of files on another storage medium in the event of a hard drive failure, user error, disaster or \\naccident.  \\nShould be a regular process  \\nCan provide synchronization between devices  \\nProgram Libraries  \\nPre-written code that can be linked to a software under development without any amendments  \\nCan perform common or complex tasks  \\nTakes the form of classes  \\nBenefits:  \\nSaves time: less code needs to be written  \\nSmaller testing time: pre -tested and used by others  \\nLibrary file is a complex algorithm which the user does not need to understand to use it  \\nDynamic Link Library (DLL) files  \\nShared library file that contains code and data  \\nCode saved separately from the main .EXE file, reducing the .EXE file\\u2019s size  \\nCode only loaded to main memory when required  \\nDDL file can be made available to several applications simultaneously, thus reducing strain on memory  \\nDLL files act as modules in more complex programs, making it easier to install and run updates  \\nLanguage Translators  \\nAssembler  \\nSoftware that translates assembly language statements into machine code (binary) for execution  \\nThe mnemonics used translates into machine opcodes  \\nProcess simple because assembly language has a one -to-one relationship with machine code.  \\nCompiler and Interpreter  \\nCompiler  Interpreter  \\nTranslates a high -level language program to machine code.  Translates and executes a high -level \\nlanguage program, line -by-line.  \\nCreates a .exe file which can be easily distributed.  No .exe file created.  Once compiled, .exe file does not need to be compiled again, resulting in faster execution.\\n Execution very slow \\u2013 translated each time program run.  \\nReports all errors at the end of compilation: difficult to locate errors \\u2234 development process long.\\n Debugging easier/faster, since it stops translating when it reaches an error. This allows real time \\nerror correction.  \\nOnly be produced when all errors are fixed.  Can run program any time, even before code finished.  \\nUsed when development is completed.  Used during development.  \\nTwo-step translation  \\nJava and some other high level language programs may require two -step translation, i.e., they will be \\npartially compiled and partially interpreted  \\nJava code first translated to bytecode by Java compiler  \\nBytecode finally interpreted by the Java Virtual Machine to produce machine code  \\nIntegrated Development Environment (IDE) features  \\nCoding  \\nContext -sensitive prompts: Displays choice of keywords and available identifiers appropriate at current \\ninsertion point and provides choices in alphabetical order  \\nHighlights undeclared/unassigned variable identifiers  \\nInitial Error Detection  \\nDynamic syntax checks: Automatic checking and highlighting of syntax errors, as soon as line typed  \\nType checking & parameter checking  \\nPresentation  \\nPrettyprint: Automatic indentation and color -coding of keywords  \\nExpand and Collapse code blocks: Saves excessive scrolling if collapsed, and easy to see global variable \\ndeclarations and main program body when collapsed  \\nDebugging  \\nSingle stepping: Executes program line -by-line to see the effect of each statement on variables  \\nBreakpoints: Pauses program at a specific line to ensure program operates correctly up to that line  \\nVariables/expressions Report Window: Monitors variables for comparing values.  \"\n        ],\n        \"semantic_type\": \"\",\n        \"description\": \"\"\n      }\n    }\n  ]\n}"
            }
          },
          "metadata": {},
          "execution_count": 30
        }
      ],
      "source": [
        "df"
      ]
    },
    {
      "cell_type": "markdown",
      "source": [
        "# Question Generation"
      ],
      "metadata": {
        "id": "drJqWLahXiNn"
      }
    },
    {
      "cell_type": "markdown",
      "source": [
        "## Preparing Prompt"
      ],
      "metadata": {
        "id": "fKwrt5Y0XnpC"
      }
    },
    {
      "cell_type": "code",
      "execution_count": 61,
      "metadata": {
        "colab": {
          "base_uri": "https://localhost:8080/"
        },
        "id": "vRkJ6mVorKoC",
        "outputId": "93998037-ba23-41ed-d7a8-05dcfdeda2ef"
      },
      "outputs": [
        {
          "output_type": "stream",
          "name": "stdout",
          "text": [
            "You are a highly intelligent and informative bot that creates questions using text provided from the content provided below\n",
            "Please generate '5' of type '10' of total 'mixed' marks from available question types that are either fill_in_the_blank, mcqs or descriptive\n",
            "Remember the text of these types, only the given text will be used\n",
            "if the type is mixed then give a mixture of types of questions\n",
            "The result should be a list of JSON objects with these keys in each object ONLY: question_type, question_text, options, marks, marking_scheme\n",
            "The marks for each question should be properly weighted. The descriptive questions weigh the most, followed by fill in the blanks and MCQs come in at last\n",
            "The total marks of all the questions must be equal to 'mixed'\n",
            "If type specified above is mixed then all 3 types of questions should be present else only give questions of the type mentioned, the type is '10'\n",
            "Each object must be properly enclosed with curly braces. The content should be able to be parsed using any programming language. Please make sure that any bracket is properly ended\n",
            "MCQ options must also contain an \"All of the above\" and \"None\" option\n",
            "CONTENT: 'System Software  \n",
            "Operating System  \n",
            "Need for OS  \n",
            "A set of programs designed to run in the background on a computer system which  \n",
            "Controls operation of computer system  \n",
            "Provides a user interface  \n",
            "Controls how computer responds to user’s requests  \n",
            "Controls how hardware communicate  \n",
            "Provides an environment in which application software can be executed  \n",
            "OS hardware is unusable without an OS, as the OS acts as an interface since it controls communication \n",
            "between user and hardware  \n",
            "Key Management Tasks  \n",
            "(Main) Memory Management  \n",
            "Memory protection to ensure 2 programs do not try to use same memory space  \n",
            "Paging  \n",
            "Use of virtual memory  \n",
            "File Management  \n",
            "Provides file naming conventions  \n",
            "Maintains a directory structure  \n",
            "Allocates space to particular files  \n",
            "Security Management  \n",
            "Proves usernames & passwords  \n",
            "Ensures data privacy  \n",
            "Prevents unauthorized access  \n",
            "Carries out automatic backup  \n",
            "Hardware (input/output/peripherals) Management  \n",
            "Installation of appropriate driver software  \n",
            "Controls access to data sent to and from peripherals  \n",
            "Receives & handles interrupts from hardware devices  Process Management  \n",
            "Enables multiprogramming and multitasking  \n",
            "Resolution of conflicts when 2 or more processes requires the same resource  \n",
            "E.g. via Round -robin method  \n",
            "Utility Software  \n",
            "Disk Formatter  \n",
            "Prepares a hard disk to allow data to be stored on it  \n",
            "Deletes any existing data on disk  \n",
            "Performs formatting, process where computer ‘draws lines’ on disk surface to split it into small areas  \n",
            "Virus checker  \n",
            "Checks for and then removes any viruses found  \n",
            "Constantly checks all incoming and outgoing files  \n",
            "Defragmentation Software  \n",
            "Files can be big so have to be stored in multiple sectors, which can result in fragmentation (contents of \n",
            "file scattered across >2 non -contiguous sectors)  \n",
            "Fragmentation slows down disk access and thus the performance of the entire computer.  \n",
            "Defragmenting software works by physically reorganizing disk contents (files) such that they are stored in \n",
            "contiguous sectors.  \n",
            "This defragmentation reduces number of movements of the read/write heads require to access the disk \n",
            "contents, hence increasing computer performance  \n",
            "The defragmentation also creates larger contiguous free space regions  \n",
            "Disk contents analysis/disk repair software  \n",
            "Software utility for visualization of disk space usage  \n",
            "Gets size for each folder and files, and generates a graphical chart showing disk usage distribution \n",
            "according to folders or other user defined criteria.  \n",
            "Allows disk to report errors (e.g. “bad sector”)  \n",
            "Software will attempt to offer a solution  \n",
            "File Compression  \n",
            "Reduces file size by removing redundant data in files  \n",
            "Causes improvements in the computer’s performance by reducing the data that needs to be stored  Back -up Software  \n",
            "Makes copy of files on another storage medium in the event of a hard drive failure, user error, disaster or \n",
            "accident.  \n",
            "Should be a regular process  \n",
            "Can provide synchronization between devices  \n",
            "Program Libraries  \n",
            "Pre-written code that can be linked to a software under development without any amendments  \n",
            "Can perform common or complex tasks  \n",
            "Takes the form of classes  \n",
            "Benefits:  \n",
            "Saves time: less code needs to be written  \n",
            "Smaller testing time: pre -tested and used by others  \n",
            "Library file is a complex algorithm which the user does not need to understand to use it  \n",
            "Dynamic Link Library (DLL) files  \n",
            "Shared library file that contains code and data  \n",
            "Code saved separately from the main .EXE file, reducing the .EXE file’s size  \n",
            "Code only loaded to main memory when required  \n",
            "DDL file can be made available to several applications simultaneously, thus reducing strain on memory  \n",
            "DLL files act as modules in more complex programs, making it easier to install and run updates  \n",
            "Language Translators  \n",
            "Assembler  \n",
            "Software that translates assembly language statements into machine code (binary) for execution  \n",
            "The mnemonics used translates into machine opcodes  \n",
            "Process simple because assembly language has a one -to-one relationship with machine code.  \n",
            "Compiler and Interpreter  \n",
            "Compiler  Interpreter  \n",
            "Translates a high -level language program to machine code.  Translates and executes a high -level \n",
            "language program, line -by-line.  \n",
            "Creates a .exe file which can be easily distributed.  No .exe file created.  Once compiled, .exe file does not need to be compiled again, resulting in faster execution.\n",
            " Execution very slow – translated each time program run.  \n",
            "Reports all errors at the end of compilation: difficult to locate errors ∴ development process long.\n",
            " Debugging easier/faster, since it stops translating when it reaches an error. This allows real time \n",
            "error correction.  \n",
            "Only be produced when all errors are fixed.  Can run program any time, even before code finished.  \n",
            "Used when development is completed.  Used during development.  \n",
            "Two-step translation  \n",
            "Java and some other high level language programs may require two -step translation, i.e., they will be \n",
            "partially compiled and partially interpreted  \n",
            "Java code first translated to bytecode by Java compiler  \n",
            "Bytecode finally interpreted by the Java Virtual Machine to produce machine code  \n",
            "Integrated Development Environment (IDE) features  \n",
            "Coding  \n",
            "Context -sensitive prompts: Displays choice of keywords and available identifiers appropriate at current \n",
            "insertion point and provides choices in alphabetical order  \n",
            "Highlights undeclared/unassigned variable identifiers  \n",
            "Initial Error Detection  \n",
            "Dynamic syntax checks: Automatic checking and highlighting of syntax errors, as soon as line typed  \n",
            "Type checking & parameter checking  \n",
            "Presentation  \n",
            "Prettyprint: Automatic indentation and color -coding of keywords  \n",
            "Expand and Collapse code blocks: Saves excessive scrolling if collapsed, and easy to see global variable \n",
            "declarations and main program body when collapsed  \n",
            "Debugging  \n",
            "Single stepping: Executes program line -by-line to see the effect of each statement on variables  \n",
            "Breakpoints: Pauses program at a specific line to ensure program operates correctly up to that line  \n",
            "Variables/expressions Report Window: Monitors variables for comparing values.  '\n",
            "\n"
          ]
        }
      ],
      "source": [
        "num_questions = 5\n",
        "total_marks = 10\n",
        "question_type = \"mixed\"\n",
        "\n",
        "content = df.iloc[0]['Text']\n",
        "\n",
        "def make_prompt(num_questions, question_type, total_marks, content):\n",
        "    escaped = content.replace(\"'\", \"\").replace('\"', \"\").replace(\"\\n\", \" \")\n",
        "    prompt = textwrap.dedent(\"\"\"\\\n",
        "        You are a highly intelligent and informative bot that creates questions using text provided from the content provided below\n",
        "        Please generate '{num_questions}' of type '{question_type}' of total '{total_marks}' marks from available question types that are either fill_in_the_blank, mcqs or descriptive\n",
        "        Remember the text of these types, only the given text will be used\n",
        "        if the type is mixed then give a mixture of types of questions\n",
        "        The result should be a list of JSON objects with these keys in each object ONLY: question_type, question_text, options, marks, marking_scheme\n",
        "        The marks for each question should be properly weighted. The descriptive questions weigh the most, followed by fill in the blanks and MCQs come in at last\n",
        "        The total marks of all the questions must be equal to '{total_marks}'\n",
        "        If type specified above is mixed then all 3 types of questions should be present else only give questions of the type mentioned, the type is '{question_type}'\n",
        "        Each object must be properly enclosed with curly braces. The content should be able to be parsed using any programming language. Please make sure that any bracket is properly ended\n",
        "        MCQ options must also contain an \"All of the above\" and \"None\" option\n",
        "        CONTENT: '{content}'\n",
        "    \"\"\").format(num_questions=num_questions, question_type=question_type, total_marks=total_marks, content=content)\n",
        "\n",
        "    return prompt\n",
        "\n",
        "prompt = make_prompt(num_questions, total_marks, question_type, content)\n",
        "print(prompt)"
      ]
    },
    {
      "cell_type": "markdown",
      "source": [
        "## Generate Questions"
      ],
      "metadata": {
        "id": "loC-ZopBYAZL"
      }
    },
    {
      "cell_type": "markdown",
      "source": [
        "### Pass prompt to Google Gemini"
      ],
      "metadata": {
        "id": "yEJs9oGMa8Al"
      }
    },
    {
      "cell_type": "code",
      "execution_count": 62,
      "metadata": {
        "id": "U7720XrBsBzj"
      },
      "outputs": [],
      "source": [
        "gen_model = palm.GenerativeModel('gemini-pro')\n",
        "answer = gen_model.generate_content(prompt)\n",
        "\n",
        "llm_output= answer.text"
      ]
    },
    {
      "cell_type": "code",
      "execution_count": 63,
      "metadata": {
        "colab": {
          "base_uri": "https://localhost:8080/",
          "height": 122
        },
        "id": "5T2U9PyBjXKk",
        "outputId": "39824020-500f-4ec0-ab6c-37122ffab90b"
      },
      "outputs": [
        {
          "output_type": "execute_result",
          "data": {
            "text/plain": [
              "'[\\n  {\\n    \"question_type\": \"mcq\",\\n    \"question_text\": \"Which of the following is NOT a key task of memory management in an operating system?\",\\n    \"options\": [\\n      \"Memory protection\",\\n      \"Paging\",\\n      \"Use of virtual memory\",\\n      \"Provision of usernames and passwords\",\\n      \"All of the above\",\\n      \"None\"\\n    ],\\n    \"marks\": 2,\\n    \"marking_scheme\": \"2 marks for correct answer (either None or Provision of usernames and passwords)\"\\n  },\\n  {\\n    \"question_type\": \"fill_in_the_blank\",\\n    \"question_text\": \"The _________________ in an operating system controls access to data sent to and from peripherals.\",\\n    \"options\": [],\\n    \"marks\": 1,\\n    \"marking_scheme\": \"1 mark for correct answer (Hardware Management)\"\\n  },\\n  {\\n    \"question_type\": \"descriptive\",\\n    \"question_text\": \"Explain the process of fragmentation in file storage and the role of defragmentation software in mitigating its effects.\",\\n    \"options\": [],\\n    \"marks\": 5,\\n    \"marking_scheme\": \"5 marks for a clear and comprehensive explanation of fragmentation and the role of defragmentation software\"\\n  },\\n  {\\n    \"question_type\": \"mcq\",\\n    \"question_text\": \"Which type of language translator converts a high-level language program into machine code line-by-line?\",\\n    \"options\": [\\n      \"Compiler\",\\n      \"Interpreter\",\\n      \"Assembler\",\\n      \"All of the above\",\\n      \"None\"\\n    ],\\n    \"marks\": 2,\\n    \"marking_scheme\": \"2 marks for correct answer (Interpreter)\"\\n  },\\n  {\\n    \"question_type\": \"fill_in_the_blank\",\\n    \"question_text\": \"______________ saves time and reduces testing time in software development by providing pre-written code.\",\\n    \"options\": [],\\n    \"marks\": 1,\\n    \"marking_scheme\": \"1 mark for correct answer (Program Libraries)\"\\n  }\\n]'"
            ],
            "application/vnd.google.colaboratory.intrinsic+json": {
              "type": "string"
            }
          },
          "metadata": {},
          "execution_count": 63
        }
      ],
      "source": [
        "llm_output"
      ]
    },
    {
      "cell_type": "markdown",
      "source": [
        "### Parse Google Gemini Results"
      ],
      "metadata": {
        "id": "cecy9Cx0bAjt"
      }
    },
    {
      "cell_type": "code",
      "execution_count": 66,
      "metadata": {
        "colab": {
          "base_uri": "https://localhost:8080/"
        },
        "id": "1hubeGRPsJic",
        "outputId": "90a4a36f-5f58-4340-989f-fe1dd1d93e69"
      },
      "outputs": [
        {
          "output_type": "execute_result",
          "data": {
            "text/plain": [
              "[{'question_type': 'mcq',\n",
              "  'question_text': 'Which of the following is NOT a key task of memory management in an operating system?',\n",
              "  'options': ['Memory protection',\n",
              "   'Paging',\n",
              "   'Use of virtual memory',\n",
              "   'Provision of usernames and passwords',\n",
              "   'All of the above',\n",
              "   'None'],\n",
              "  'marks': 2,\n",
              "  'marking_scheme': '2 marks for correct answer (either None or Provision of usernames and passwords)'},\n",
              " {'question_type': 'fill_in_the_blank',\n",
              "  'question_text': 'The _________________ in an operating system controls access to data sent to and from peripherals.',\n",
              "  'options': [],\n",
              "  'marks': 1,\n",
              "  'marking_scheme': '1 mark for correct answer (Hardware Management)'},\n",
              " {'question_type': 'descriptive',\n",
              "  'question_text': 'Explain the process of fragmentation in file storage and the role of defragmentation software in mitigating its effects.',\n",
              "  'options': [],\n",
              "  'marks': 5,\n",
              "  'marking_scheme': '5 marks for a clear and comprehensive explanation of fragmentation and the role of defragmentation software'},\n",
              " {'question_type': 'mcq',\n",
              "  'question_text': 'Which type of language translator converts a high-level language program into machine code line-by-line?',\n",
              "  'options': ['Compiler',\n",
              "   'Interpreter',\n",
              "   'Assembler',\n",
              "   'All of the above',\n",
              "   'None'],\n",
              "  'marks': 2,\n",
              "  'marking_scheme': '2 marks for correct answer (Interpreter)'},\n",
              " {'question_type': 'fill_in_the_blank',\n",
              "  'question_text': '______________ saves time and reduces testing time in software development by providing pre-written code.',\n",
              "  'options': [],\n",
              "  'marks': 1,\n",
              "  'marking_scheme': '1 mark for correct answer (Program Libraries)'}]"
            ]
          },
          "metadata": {},
          "execution_count": 66
        }
      ],
      "source": [
        "questions = json.loads(llm_output)\n",
        "questions"
      ]
    },
    {
      "cell_type": "markdown",
      "source": [
        "# Checking Answers"
      ],
      "metadata": {
        "id": "dgy9B9lXYFnd"
      }
    },
    {
      "cell_type": "markdown",
      "source": [
        "## Prompt Preparation + answer checking results"
      ],
      "metadata": {
        "id": "orIxmUupYfvC"
      }
    },
    {
      "cell_type": "code",
      "source": [
        "import re\n",
        "def check_single_answer(question_number, question, answer, marks, sample_answer):\n",
        "  prompt = textwrap.dedent(\"\"\"\\\n",
        "      You are an intelligent system that checks an answer for a question against a marking scheme by comparing semantic similarity\n",
        "      then you will grade the answer out of the maximum obtainable marks\n",
        "      and will provide an explanation for why you gave those marks\n",
        "      The question is,\n",
        "      QUESTION: {question}\n",
        "      The provided answer is:\n",
        "      ANSWER: {answer}\n",
        "      The sample answer to compare against is\n",
        "      SAMPLE_ANSWER: {sample_answer}\n",
        "      The marks out of which to award are {marks}\n",
        "      Check for meaning of an answer, the idea of the marking scheme and answer must be the same\n",
        "      Give the results in a stringified JSON object with these keys: question_number: {question_number}, question, answer, obtained_marks, marks: {marks}, explanation\n",
        "  \"\"\").format(question_number=question_number, question=question, answer=answer, marks=marks, sample_answer=sample_answer)\n",
        "\n",
        "  model = palm.GenerativeModel('gemini-pro')\n",
        "  answer_results = model.generate_content(prompt)\n",
        "\n",
        "  llm_output = answer_results.text\n",
        "  pattern = r'\\{.*\\}'\n",
        "\n",
        "  # Search for the JSON object in the response text\n",
        "  match = re.search(pattern, llm_output, re.DOTALL)\n",
        "\n",
        "  # If a match is found\n",
        "  if match:\n",
        "      # Extract the JSON object from the match\n",
        "      json_string = match.group(0)\n",
        "      return json_string\n",
        "  else:\n",
        "      return ''\n",
        "\n",
        "  return ''"
      ],
      "metadata": {
        "id": "bSa2eYR-toKB"
      },
      "execution_count": 58,
      "outputs": []
    },
    {
      "cell_type": "markdown",
      "source": [
        "# Test Screen"
      ],
      "metadata": {
        "id": "kry2IwmVYqTy"
      }
    },
    {
      "cell_type": "markdown",
      "source": [
        "## Setup"
      ],
      "metadata": {
        "id": "YSjC36HxYubJ"
      }
    },
    {
      "cell_type": "markdown",
      "source": [
        "### Imports"
      ],
      "metadata": {
        "id": "D0tAQqiQY7oP"
      }
    },
    {
      "cell_type": "code",
      "execution_count": 17,
      "metadata": {
        "id": "xI-cAtmFlOKM"
      },
      "outputs": [],
      "source": [
        "from pyngrok import ngrok"
      ]
    },
    {
      "cell_type": "markdown",
      "source": [
        "### NGROK Key"
      ],
      "metadata": {
        "id": "1aiK3I3gbVBa"
      }
    },
    {
      "cell_type": "code",
      "source": [
        "NGROK_AUTH_TOKEN='YOUR_TOKEN'"
      ],
      "metadata": {
        "id": "kBtzZh22bQU2"
      },
      "execution_count": 69,
      "outputs": []
    },
    {
      "cell_type": "markdown",
      "source": [
        "### NGROK config"
      ],
      "metadata": {
        "id": "FQUFa5KBbfq6"
      }
    },
    {
      "cell_type": "code",
      "source": [
        "ngrok.set_auth_token(NGROK_AUTH_TOKEN)"
      ],
      "metadata": {
        "colab": {
          "base_uri": "https://localhost:8080/"
        },
        "id": "i6wqI29_bP7F",
        "outputId": "376a4a2e-670e-4a5b-a0c7-fc97b1f05828"
      },
      "execution_count": 18,
      "outputs": [
        {
          "output_type": "stream",
          "name": "stdout",
          "text": []
        }
      ]
    },
    {
      "cell_type": "markdown",
      "source": [
        "### User Interface"
      ],
      "metadata": {
        "id": "ejYctA4IYwaj"
      }
    },
    {
      "cell_type": "code",
      "execution_count": 67,
      "metadata": {
        "colab": {
          "base_uri": "https://localhost:8080/"
        },
        "id": "nbEIeqXAdLvP",
        "outputId": "53230c54-9866-45c8-8641-fb1c3aff85d6"
      },
      "outputs": [
        {
          "output_type": "stream",
          "name": "stdout",
          "text": [
            "HTML file 'test_screen.html' has been created in the 'templates' folder.\n"
          ]
        }
      ],
      "source": [
        "templates_folder = 'templates'\n",
        "if not os.path.exists(templates_folder):\n",
        "    # If not, create the 'templates' folder\n",
        "    os.makedirs(templates_folder)\n",
        "\n",
        "html_code_test_screen = \"\"\"\n",
        "<!DOCTYPE html>\n",
        "<html>\n",
        "  <head>\n",
        "    <meta charset=\"utf-8\" />\n",
        "    <meta http-equiv=\"X-UA-Compatible\" content=\"IE=edge\" />\n",
        "    <title>{{test_title}}</title>\n",
        "    <meta name=\"viewport\" content=\"width=device-width, initial-scale=1\" />\n",
        "    <link rel=\"stylesheet\" type=\"text/css\" media=\"screen\" href=\"main.css\" />\n",
        "    <script src=\"main.js\"></script>\n",
        "    <link\n",
        "      href=\"https://bootswatch.com/5/journal/bootstrap.min.css\"\n",
        "      rel=\"stylesheet\"\n",
        "    />\n",
        "    <style>\n",
        "      /* Custom CSS for alignment */\n",
        "      .question-container {\n",
        "        text-align: center;\n",
        "      }\n",
        "      .question {\n",
        "        text-align: left;\n",
        "      }\n",
        "      .marks {\n",
        "        float: right;\n",
        "      }\n",
        "    </style>\n",
        "  </head>\n",
        "  <body>\n",
        "    <div class=\"container question-container\">\n",
        "      <h1>{{test_title}}</h1>\n",
        "      <form id=\"test_form\">\n",
        "        {% for question in questions %}\n",
        "        <div class=\"card question mb-3\">\n",
        "          <div class=\"question-card card-body\">\n",
        "            <h5 class=\"question-text card-title\">\n",
        "              Question {{ loop.index }} ({{question.question_type}})\n",
        "              {{question.question_text }}\n",
        "            </h5>\n",
        "            {% if question.question_type == \"fill_in_the_blank\" %}\n",
        "            <input\n",
        "              type=\"text\"\n",
        "              class=\"form-control question-answer\"\n",
        "              id=\"question{{ loop.index }}\"\n",
        "              name=\"question{{ loop.index }}\"\n",
        "            />\n",
        "            {% elif question.question_type == \"mcq\" %} {% set question_num =\n",
        "            loop.index %} {% for option in question.options %}\n",
        "            <div class=\"form-check\">\n",
        "              <input\n",
        "                class=\"form-check-input question-answer\"\n",
        "                type=\"radio\"\n",
        "                name=\"question{{ question_num }}\"\n",
        "                id=\"q{{ question_num }}Option{{ loop.index0 }}\"\n",
        "                value=\"{{ option }}\"\n",
        "              />\n",
        "              <label\n",
        "                class=\"form-check-label\"\n",
        "                for=\"q{{ question_num }}Option{{ loop.index0 }}\"\n",
        "              >\n",
        "                {{ option }}\n",
        "              </label>\n",
        "            </div>\n",
        "            {% endfor %} {% elif question.question_type == \"descriptive\" %}\n",
        "            <textarea\n",
        "              class=\"form-control question-answer\"\n",
        "              id=\"question{{ loop.index }}\"\n",
        "              name=\"question{{ loop.index }} \"\n",
        "              rows=\"3\"\n",
        "            ></textarea>\n",
        "            {% endif %}\n",
        "            <small class=\"form-text text-muted marks\"\n",
        "              >Marks: {{ question.marks }}</small\n",
        "            >\n",
        "          </div>\n",
        "          <div id=\"question_{{loop.index}}_marks\"></div>\n",
        "        </div>\n",
        "        {% endfor %}\n",
        "        <button id=\"submit_button\" type=\"submit\" class=\"btn btn-primary\">\n",
        "          Submit\n",
        "        </button>\n",
        "        <div class=\"progress\">\n",
        "          <div\n",
        "            class=\"progress-bar progress-bar-striped progress-bar-animated\"\n",
        "            role=\"progressbar\"\n",
        "            aria-valuenow=\"100\"\n",
        "            aria-valuemin=\"0\"\n",
        "            aria-valuemax=\"100\"\n",
        "            style=\"width: 75%\"\n",
        "          ></div>\n",
        "        </div>\n",
        "      </form>\n",
        "    </div>\n",
        "  </body>\n",
        "  <script\n",
        "    src=\"https://code.jquery.com/jquery-3.7.1.min.js\"\n",
        "    integrity=\"sha256-/JqT3SQfawRcv/BIHPThkBvs0OEvtFFmqPF/lYI/Cxo=\"\n",
        "    crossorigin=\"anonymous\"\n",
        "  ></script>\n",
        "  <script>\n",
        "    $(document).ready(function () {\n",
        "      $(\"div.progress\").hide();\n",
        "      $(\"#test_form\").submit(function (e) {\n",
        "        e.preventDefault();\n",
        "\n",
        "        $(\"div.progress\").show();\n",
        "        $(\"#submit_button\").hide();\n",
        "\n",
        "        let answerScript = \"\";\n",
        "        let answerScriptJSON = [];\n",
        "        $(\".card.question\").each(function (index) {\n",
        "          let questionText = $(this).find(\"h5.card-title\").text().trim();\n",
        "\n",
        "          let radioButtons = $(this).find(\"input[type='radio']:checked\");\n",
        "          let answer;\n",
        "\n",
        "          if (radioButtons.length > 0) {\n",
        "            answer = radioButtons.val().trim();\n",
        "          } else {\n",
        "            answer = $(this).find(\"input[type='text'], textarea\").val();\n",
        "          }\n",
        "\n",
        "          if (answer !== undefined) {\n",
        "            answer = answer.trim();\n",
        "          }\n",
        "\n",
        "          let marks = $(this).find(\"small.marks\").text();\n",
        "          if (marks !== undefined && marks.trim() !== \"\") {\n",
        "            marks = marks.trim().split(\":\")[1].trim();\n",
        "          }\n",
        "          answerScriptJSON.push({\n",
        "            questionNumber: index + 1,\n",
        "            question: questionText,\n",
        "            answer,\n",
        "            marks,\n",
        "          });\n",
        "          answerScript += `QUESTION: ${questionText}\\n OBTAINABLE_MARKS: ${marks}\\n ANSWER:${answer}\\n\\n`;\n",
        "        });\n",
        "\n",
        "        $.ajax({\n",
        "          type: \"POST\",\n",
        "          url: \"{{public_url}}/check-answers\",\n",
        "          contentType: \"application/json\",\n",
        "          data: JSON.stringify({\n",
        "            answer_script: answerScriptJSON,\n",
        "          }),\n",
        "          success: function (response) {\n",
        "            const { graded_answers, message } = response;\n",
        "            graded_answers.forEach((graded_answer) => {\n",
        "              const { question_number, explanation, marks, obtained_marks } =\n",
        "                graded_answer;\n",
        "              const bgColor =\n",
        "                obtained_marks === marks\n",
        "                  ? \"bg-success\"\n",
        "                  : obtained_marks < marks && obtained_marks > 0\n",
        "                  ? \"bg-warning\"\n",
        "                  : \"bg-danger\";\n",
        "              $(`div#question_${question_number}_marks`).html(`\n",
        "                <div class=\"card text-white ${bgColor} mb-3\" style=\"max-width: 18rem;\">\n",
        "                  <div class=\"card-header\">Header</div>\n",
        "                  <div class=\"card-body\">\n",
        "                    <h5 class=\"card-title\">${obtained_marks}/${marks}</h5>\n",
        "                    <p class=\"card-text\">${explanation}</p>\n",
        "                  </div>\n",
        "                </div>\n",
        "              `);\n",
        "            });\n",
        "          },\n",
        "          error: function (xhr, status, error) {\n",
        "            // Handle the error response\n",
        "            console.log(\"Error:\", error);\n",
        "          },\n",
        "          complete: function (xhr, status) {\n",
        "            $(\"div.progress\").hide();\n",
        "            $(\"#submit_button\").show();\n",
        "          },\n",
        "        });\n",
        "      });\n",
        "    });\n",
        "  </script>\n",
        "</html>\n",
        "\"\"\"\n",
        "\n",
        "# Path to the HTML file\n",
        "html_file_path = os.path.join(templates_folder, 'test_screen.html')\n",
        "\n",
        "# Write the HTML code to the file\n",
        "with open(html_file_path, 'w') as file:\n",
        "    file.write(html_code_test_screen)\n",
        "\n",
        "print(f\"HTML file 'test_screen.html' has been created in the '{templates_folder}' folder.\")"
      ]
    },
    {
      "cell_type": "markdown",
      "source": [
        "## Web server"
      ],
      "metadata": {
        "id": "Yf8F22u2ZjOt"
      }
    },
    {
      "cell_type": "markdown",
      "source": [
        "### Port"
      ],
      "metadata": {
        "id": "3a3mDoUfY1l-"
      }
    },
    {
      "cell_type": "code",
      "execution_count": 20,
      "metadata": {
        "id": "dZktrkFKTj3R"
      },
      "outputs": [],
      "source": [
        "port = 5000"
      ]
    },
    {
      "cell_type": "markdown",
      "source": [
        "### Helper Functions"
      ],
      "metadata": {
        "id": "AI0JitCRZAvm"
      }
    },
    {
      "cell_type": "code",
      "source": [
        "def prepare_answer_script(answer_script_json, supplied_questions):\n",
        "  for i in range(len(supplied_questions)):\n",
        "    answer_script_json[i]['marking_scheme'] = supplied_questions[i]['marking_scheme']\n",
        "  return answer_script_json"
      ],
      "metadata": {
        "id": "wCW2MQMi5AH4"
      },
      "execution_count": 21,
      "outputs": []
    },
    {
      "cell_type": "code",
      "source": [
        "def grade_answers(answer_script_json):\n",
        "  graded_answers = []\n",
        "  for answer in answer_script_json:\n",
        "    llm_output = check_single_answer(answer['questionNumber'], answer['question'], answer.get('answer', None), answer['marks'], answer['marking_scheme'])\n",
        "    print(llm_output)\n",
        "    graded_answers.append(json.loads(llm_output))\n",
        "  return graded_answers"
      ],
      "metadata": {
        "id": "XZFCUEwzLqhB"
      },
      "execution_count": 22,
      "outputs": []
    },
    {
      "cell_type": "markdown",
      "source": [
        "### Web Server Code"
      ],
      "metadata": {
        "id": "1iAeUqsuZIBl"
      }
    },
    {
      "cell_type": "code",
      "execution_count": 68,
      "metadata": {
        "colab": {
          "base_uri": "https://localhost:8080/",
          "height": 1000
        },
        "id": "rR-zmgT-TvcO",
        "outputId": "fdaf3d56-222a-48ed-8998-d2a95cfba000"
      },
      "outputs": [
        {
          "output_type": "stream",
          "name": "stdout",
          "text": [
            "To acces the Gloable link please click https://c9d0-34-138-71-238.ngrok-free.app\n",
            " * Serving Flask app '__main__'\n",
            " * Debug mode: off\n"
          ]
        },
        {
          "output_type": "stream",
          "name": "stderr",
          "text": [
            "INFO:werkzeug:\u001b[31m\u001b[1mWARNING: This is a development server. Do not use it in a production deployment. Use a production WSGI server instead.\u001b[0m\n",
            " * Running on http://127.0.0.1:5000\n",
            "INFO:werkzeug:\u001b[33mPress CTRL+C to quit\u001b[0m\n",
            "INFO:werkzeug:127.0.0.1 - - [02/May/2024 23:06:08] \"GET / HTTP/1.1\" 200 -\n",
            "INFO:werkzeug:127.0.0.1 - - [02/May/2024 23:06:09] \"\u001b[33mGET /main.css HTTP/1.1\u001b[0m\" 404 -\n",
            "INFO:werkzeug:127.0.0.1 - - [02/May/2024 23:06:09] \"\u001b[33mGET /main.js HTTP/1.1\u001b[0m\" 404 -\n",
            "INFO:werkzeug:127.0.0.1 - - [02/May/2024 23:06:10] \"\u001b[33mGET /favicon.ico HTTP/1.1\u001b[0m\" 404 -\n"
          ]
        },
        {
          "output_type": "stream",
          "name": "stdout",
          "text": [
            "[{'questionNumber': 1, 'question': 'Question 1 (mcq)\\n              Which of the following is NOT a key task of memory management in an operating system?', 'answer': 'Provision of usernames and passwords', 'marks': '2', 'marking_scheme': '2 marks for correct answer (either None or Provision of usernames and passwords)'}, {'questionNumber': 2, 'question': 'Question 2 (fill_in_the_blank)\\n              The _________________ in an operating system controls access to data sent to and from peripherals.', 'answer': 'kernel', 'marks': '1', 'marking_scheme': '1 mark for correct answer (Hardware Management)'}, {'questionNumber': 3, 'question': 'Question 3 (descriptive)\\n              Explain the process of fragmentation in file storage and the role of defragmentation software in mitigating its effects.', 'answer': 'File fragmentation scatters parts of files across non-contiguous disk sectors, slowing read/write operations. Defragmentation software reorganizes fragmented files into contiguous blocks, optimizing disk performance and reducing wear and tear. Regular defragmentation ensures efficient storage usage and maintains system responsiveness.', 'marks': '5', 'marking_scheme': '5 marks for a clear and comprehensive explanation of fragmentation and the role of defragmentation software'}, {'questionNumber': 4, 'question': 'Question 4 (mcq)\\n              Which type of language translator converts a high-level language program into machine code line-by-line?', 'answer': 'Assembler', 'marks': '2', 'marking_scheme': '2 marks for correct answer (Interpreter)'}, {'questionNumber': 5, 'question': 'Question 5 (fill_in_the_blank)\\n              ______________ saves time and reduces testing time in software development by providing pre-written code.', 'answer': 'DLL', 'marks': '1', 'marking_scheme': '1 mark for correct answer (Program Libraries)'}]\n",
            "{\n",
            "  \"question_number\": 1,\n",
            "  \"question\": \"Which of the following is NOT a key task of memory management in an operating system?\",\n",
            "  \"answer\": \"Provision of usernames and passwords\",\n",
            "  \"obtained_marks\": 2,\n",
            "  \"marks\": 2,\n",
            "  \"explanation\": \"The answer is correct. Provision of usernames and passwords is not a key task of memory management in an operating system. Memory management is responsible for managing the allocation and deallocation of memory space to running programs.\"\n",
            "}\n",
            "{\n",
            "  \"question_number\": 2,\n",
            "  \"question\": \"The _________________ in an operating system controls access to data sent to and from peripherals.\",\n",
            "  \"answer\": \"kernel\",\n",
            "  \"obtained_marks\": 1,\n",
            "  \"marks\": 1,\n",
            "  \"explanation\": \"The answer is correct. The kernel is the core of the operating system and it controls access to data sent to and from peripherals.\"\n",
            "}\n",
            "{\n",
            "  \"question_number\": 3,\n",
            "  \"question\": \"Explain the process of fragmentation in file storage and the role of defragmentation software in mitigating its effects.\",\n",
            "  \"answer\": \"File fragmentation scatters parts of files across non-contiguous disk sectors, slowing read/write operations. Defragmentation software reorganizes fragmented files into contiguous blocks, optimizing disk performance and reducing wear and tear. Regular defragmentation ensures efficient storage usage and maintains system responsiveness.\",\n",
            "  \"obtained_marks\": 5,\n",
            "  \"marks\": 5,\n",
            "  \"explanation\": \"The answer fully addresses the question, covering the concept of file fragmentation and the role of defragmentation software in mitigating its effects. It explains how fragmentation can impact performance and how defragmentation reorganizes files for optimal storage and system efficiency.\"\n",
            "}\n",
            "{\n",
            "  \"question_number\": 4,\n",
            "  \"question\": \"Which type of language translator converts a high-level language program into machine code line-by-line?\",\n",
            "  \"answer\": \"Assembler\",\n",
            "  \"obtained_marks\": 0,\n",
            "  \"marks\": 2,\n",
            "  \"explanation\": \"The question asks for a translator that converts line-by-line, which is the definition of an assembler, however, the answer provided was 'Interpreter', which does not fit the requirements. Thus, no marks should be given.\"\n",
            "}\n"
          ]
        },
        {
          "output_type": "stream",
          "name": "stderr",
          "text": [
            "INFO:werkzeug:127.0.0.1 - - [02/May/2024 23:08:48] \"POST /check-answers HTTP/1.1\" 200 -\n"
          ]
        },
        {
          "output_type": "stream",
          "name": "stdout",
          "text": [
            "{\n",
            "  \"question_number\": 5,\n",
            "  \"question\": \"______________ saves time and reduces testing time in software development by providing pre-written code.\",\n",
            "  \"answer\": \"DLL\",\n",
            "  \"obtained_marks\": 1,\n",
            "  \"marks\": 1,\n",
            "  \"explanation\": \"The answer provided is correct as Program Libraries (DLL) are pre-written code that saves time and reduces testing time in software development.\"\n",
            "}\n"
          ]
        },
        {
          "output_type": "stream",
          "name": "stderr",
          "text": [
            "INFO:werkzeug:127.0.0.1 - - [02/May/2024 23:09:21] \"\u001b[33mGET /main.css HTTP/1.1\u001b[0m\" 404 -\n"
          ]
        },
        {
          "output_type": "stream",
          "name": "stdout",
          "text": [
            "[{'questionNumber': 1, 'question': 'Question 1 (mcq)\\n              Which of the following is NOT a key task of memory management in an operating system?\\n            2/2', 'answer': 'Provision of usernames and passwords', 'marks': '2', 'marking_scheme': '2 marks for correct answer (either None or Provision of usernames and passwords)'}, {'questionNumber': 2, 'question': 'Question 2 (fill_in_the_blank)\\n              The _________________ in an operating system controls access to data sent to and from peripherals.\\n            1/1', 'answer': 'kernel', 'marks': '1', 'marking_scheme': '1 mark for correct answer (Hardware Management)'}, {'questionNumber': 3, 'question': 'Question 3 (descriptive)\\n              Explain the process of fragmentation in file storage and the role of defragmentation software in mitigating its effects.\\n            5/5', 'answer': 'File fragmentation scatters parts of files across non-contiguous disk sectors, slowing read/write operations. Defragmentation software reorganizes fragmented files into contiguous blocks, optimizing disk performance and reducing wear and tear. Regular defragmentation ensures efficient storage usage and maintains system responsiveness.', 'marks': '5', 'marking_scheme': '5 marks for a clear and comprehensive explanation of fragmentation and the role of defragmentation software'}, {'questionNumber': 4, 'question': 'Question 4 (mcq)\\n              Which type of language translator converts a high-level language program into machine code line-by-line?\\n            0/2', 'answer': 'Assembler', 'marks': '2', 'marking_scheme': '2 marks for correct answer (Interpreter)'}, {'questionNumber': 5, 'question': 'Question 5 (fill_in_the_blank)\\n              ______________ saves time and reduces testing time in software development by providing pre-written code.\\n            1/1', 'answer': 'DLL', 'marks': '1', 'marking_scheme': '1 mark for correct answer (Program Libraries)'}]\n",
            "{\n",
            "  \"question_number\": 1,\n",
            "  \"question\": \"Which of the following is NOT a key task of memory management in an operating system?\",\n",
            "  \"answer\": \"Provision of usernames and passwords\",\n",
            "  \"obtained_marks\": 2,\n",
            "  \"marks\": 2,\n",
            "  \"explanation\": \"The answer is correct. Provision of usernames and passwords is not a key task of memory management in an operating system.\"\n",
            "}\n",
            "{\n",
            "  \"question_number\": 2,\n",
            "  \"question\": \"The _________________ in an operating system controls access to data sent to and from peripherals.\",\n",
            "  \"answer\": \"kernel\",\n",
            "  \"obtained_marks\": 1,\n",
            "  \"marks\": 1,\n",
            "  \"explanation\": \"The answer 'kernel' correctly identifies the component of an operating system responsible for controlling access to data sent to and from peripherals, matching the idea expressed in the marking scheme's sample answer 'Hardware Management'.\"\n",
            "}\n",
            "{\n",
            "  \"question_number\": 3,\n",
            "  \"question\": \"Explain the process of fragmentation in file storage and the role of defragmentation software in mitigating its effects.\",\n",
            "  \"answer\": \"File fragmentation scatters parts of files across non-contiguous disk sectors, slowing read/write operations. Defragmentation software reorganizes fragmented files into contiguous blocks, optimizing disk performance and reducing wear and tear. Regular defragmentation ensures efficient storage usage and maintains system responsiveness.\",\n",
            "  \"obtained_marks\": 5,\n",
            "  \"marks\": 5,\n",
            "  \"explanation\": \"The answer fully satisfies the provided marking scheme by providing a clear and comprehensive explanation of both fragmentation and defragmentation software, accurately reflecting the key points mentioned in the sample answer.\"\n",
            "}\n",
            "{\n",
            "  \"question_number\": 4,\n",
            "  \"question\": \"Which type of language translator converts a high-level language program into machine code line-by-line?\",\n",
            "  \"answer\": \"Assembler\",\n",
            "  \"obtained_marks\": 0,\n",
            "  \"marks\": 2,\n",
            "  \"explanation\": \"The correct answer is **Interpreter** not \\\"Assembler\\\". An interpreter is a type of language translator that converts a high-level language program into machine code line-by-line.\"\n",
            "}\n"
          ]
        },
        {
          "output_type": "stream",
          "name": "stderr",
          "text": [
            "INFO:werkzeug:127.0.0.1 - - [02/May/2024 23:09:43] \"POST /check-answers HTTP/1.1\" 200 -\n"
          ]
        },
        {
          "output_type": "stream",
          "name": "stdout",
          "text": [
            "{\n",
            "  \"question_number\": 5,\n",
            "  \"question\": \"______________ saves time and reduces testing time in software development by providing pre-written code.\",\n",
            "  \"answer\": \"DLL\",\n",
            "  \"obtained_marks\": 1,\n",
            "  \"marks\": 1,\n",
            "  \"explanation\": \"The answer 'Program Libraries' is correct because it matches the idea that saving time and reducing testing time in software development is achieved by providing pre-written code.\"\n",
            "}\n"
          ]
        },
        {
          "output_type": "stream",
          "name": "stderr",
          "text": [
            "INFO:werkzeug:127.0.0.1 - - [02/May/2024 23:10:09] \"GET / HTTP/1.1\" 200 -\n",
            "INFO:werkzeug:127.0.0.1 - - [02/May/2024 23:10:09] \"\u001b[33mGET /main.js HTTP/1.1\u001b[0m\" 404 -\n",
            "INFO:werkzeug:127.0.0.1 - - [02/May/2024 23:10:09] \"\u001b[33mGET /main.css HTTP/1.1\u001b[0m\" 404 -\n"
          ]
        },
        {
          "output_type": "stream",
          "name": "stdout",
          "text": [
            "[{'questionNumber': 1, 'question': 'Question 1 (mcq)\\n              Which of the following is NOT a key task of memory management in an operating system?', 'answer': 'Provision of usernames and passwords', 'marks': '2', 'marking_scheme': '2 marks for correct answer (either None or Provision of usernames and passwords)'}, {'questionNumber': 2, 'question': 'Question 2 (fill_in_the_blank)\\n              The _________________ in an operating system controls access to data sent to and from peripherals.', 'answer': 'kernel', 'marks': '1', 'marking_scheme': '1 mark for correct answer (Hardware Management)'}, {'questionNumber': 3, 'question': 'Question 3 (descriptive)\\n              Explain the process of fragmentation in file storage and the role of defragmentation software in mitigating its effects.', 'answer': 'File fragmentation scatters parts of files across non-contiguous disk sectors, slowing read/write operations. Defragmentation software reorganizes fragmented files into contiguous blocks, optimizing disk performance and reducing wear and tear. Regular defragmentation ensures efficient storage usage and maintains system responsiveness.', 'marks': '5', 'marking_scheme': '5 marks for a clear and comprehensive explanation of fragmentation and the role of defragmentation software'}, {'questionNumber': 4, 'question': 'Question 4 (mcq)\\n              Which type of language translator converts a high-level language program into machine code line-by-line?', 'answer': 'All of the above', 'marks': '2', 'marking_scheme': '2 marks for correct answer (Interpreter)'}, {'questionNumber': 5, 'question': 'Question 5 (fill_in_the_blank)\\n              ______________ saves time and reduces testing time in software development by providing pre-written code.', 'answer': 'DLL', 'marks': '1', 'marking_scheme': '1 mark for correct answer (Program Libraries)'}]\n",
            "{\n",
            "  \"question_number\": 1,\n",
            "  \"question\": \"Which of the following is NOT a key task of memory management in an operating system?\",\n",
            "  \"answer\": \"Provision of usernames and passwords\",\n",
            "  \"obtained_marks\": 2,\n",
            "  \"marks\": 2,\n",
            "  \"explanation\": \"The provided answer, \\\"Provision of usernames and passwords,\\\" is correct. Memory management in an operating system does not involve handling user authentication and authorization, which is typically handled by separate security mechanisms.\"\n",
            "}\n",
            "{\n",
            "  \"question_number\": 2,\n",
            "  \"question\": \"The _________________ in an operating system controls access to data sent to and from peripherals.\",\n",
            "  \"answer\": \"kernel\",\n",
            "  \"obtained_marks\": 1,\n",
            "  \"marks\": 1,\n",
            "  \"explanation\": \"The answer \\\"kernel\\\" matches the sample answer \\\"Hardware Management\\\" in meaning. The kernel in an operating system is responsible for managing hardware devices, including controlling access to data sent to and from peripherals.\"\n",
            "}\n",
            "{\n",
            "  \"question_number\": 3,\n",
            "  \"question\": \"Explain the process of fragmentation in file storage and the role of defragmentation software in mitigating its effects.\",\n",
            "  \"answer\": \"File fragmentation scatters parts of files across non-contiguous disk sectors, slowing read/write operations. Defragmentation software reorganizes fragmented files into contiguous blocks, optimizing disk performance and reducing wear and tear. Regular defragmentation ensures efficient storage usage and maintains system responsiveness.\",\n",
            "  \"obtained_marks\": 5,\n",
            "  \"marks\": 5,\n",
            "  \"explanation\": \"The answer is correct and comprehensive, it covers all the key points of the marking scheme. The answer is clear and well-written.\"\n",
            "}\n",
            "{\n",
            "  \"question_number\": 4,\n",
            "  \"question\": \"Which type of language translator converts a high-level language program into machine code line-by-line?\",\n",
            "  \"answer\": \"All of the above\",\n",
            "  \"obtained_marks\": 0,\n",
            "  \"marks\": 2,\n",
            "  \"explanation\": \"The provided answer does not match the sample answer. The sample answer specifies 'Interpreter' as the correct answer, while the provided answer is 'All of the above'.\"\n",
            "}\n"
          ]
        },
        {
          "output_type": "stream",
          "name": "stderr",
          "text": [
            "INFO:werkzeug:127.0.0.1 - - [02/May/2024 23:11:05] \"POST /check-answers HTTP/1.1\" 200 -\n"
          ]
        },
        {
          "output_type": "stream",
          "name": "stdout",
          "text": [
            "{\n",
            "  \"question_number\": 5,\n",
            "  \"question\": \"______________ saves time and reduces testing time in software development by providing pre-written code.\",\n",
            "  \"answer\": \"DLL\",\n",
            "  \"obtained_marks\": 1,\n",
            "  \"marks\": 1,\n",
            "  \"explanation\": \"The answer provided, \\\"DLL\\\", is correct. The sample answer, \\\"Program Libraries\\\", is also correct. Both answers convey the same idea that the use of pre-written code in software development saves time and reduces testing time.\"\n",
            "}\n",
            "[{'questionNumber': 1, 'question': 'Question 1 (mcq)\\n              Which of the following is NOT a key task of memory management in an operating system?\\n            2/2', 'answer': 'Provision of usernames and passwords', 'marks': '2', 'marking_scheme': '2 marks for correct answer (either None or Provision of usernames and passwords)'}, {'questionNumber': 2, 'question': 'Question 2 (fill_in_the_blank)\\n              The _________________ in an operating system controls access to data sent to and from peripherals.\\n            1/1', 'answer': 'kernel', 'marks': '1', 'marking_scheme': '1 mark for correct answer (Hardware Management)'}, {'questionNumber': 3, 'question': 'Question 3 (descriptive)\\n              Explain the process of fragmentation in file storage and the role of defragmentation software in mitigating its effects.\\n            5/5', 'answer': 'IDK man', 'marks': '5', 'marking_scheme': '5 marks for a clear and comprehensive explanation of fragmentation and the role of defragmentation software'}, {'questionNumber': 4, 'question': 'Question 4 (mcq)\\n              Which type of language translator converts a high-level language program into machine code line-by-line?\\n            0/2', 'answer': 'All of the above', 'marks': '2', 'marking_scheme': '2 marks for correct answer (Interpreter)'}, {'questionNumber': 5, 'question': 'Question 5 (fill_in_the_blank)\\n              ______________ saves time and reduces testing time in software development by providing pre-written code.\\n            1/1', 'answer': 'DLL', 'marks': '1', 'marking_scheme': '1 mark for correct answer (Program Libraries)'}]\n",
            "{\n",
            "  \"question_number\": 1,\n",
            "  \"question\": \"Question 1 (mcq)\\nWhich of the following is NOT a key task of memory management in an operating system?\\n2/2\",\n",
            "  \"answer\": \"Provision of usernames and passwords\",\n",
            "  \"obtained_marks\": 2,\n",
            "  \"marks\": 2,\n",
            "  \"explanation\": \"The answer is correct. Provision of usernames and passwords is not a key task of memory management in an operating system.\"\n",
            "}\n",
            "{\n",
            "  \"question_number\": 2,\n",
            "  \"question\": \"The _________________ in an operating system controls access to data sent to and from peripherals.\",\n",
            "  \"answer\": \"kernel\",\n",
            "  \"obtained_marks\": 1,\n",
            "  \"marks\": 1,\n",
            "  \"explanation\": \"The provided answer matches the sample answer \\\"Hardware Management\\\", which is the correct answer.\"\n",
            "}\n",
            "{\n",
            "  \"question_number\": 3,\n",
            "  \"question\": \"Explain the process of fragmentation in file storage and the role of defragmentation software in mitigating its effects.\",\n",
            "  \"answer\": \"IDK man\",\n",
            "  \"obtained_marks\": 0,\n",
            "  \"marks\": 5,\n",
            "  \"explanation\": \"The answer provided does not meet the criteria of a clear and comprehensive explanation of fragmentation and the role of defragmentation software in mitigating its effects. Hence, it is awarded 0 marks.\"\n",
            "}\n",
            "{\n",
            "  \"question_number\": 4,\n",
            "  \"question\": \"Which type of language translator converts a high-level language program into machine code line-by-line?\",\n",
            "  \"answer\": \"All of the above\",\n",
            "  \"obtained_marks\": 0,\n",
            "  \"max_marks\": 2,\n",
            "  \"explanation\": \"The provided answer is not correct as the question asks for a specific type of language translator, not all types.\"\n",
            "}\n"
          ]
        },
        {
          "output_type": "stream",
          "name": "stderr",
          "text": [
            "INFO:werkzeug:127.0.0.1 - - [02/May/2024 23:11:41] \"POST /check-answers HTTP/1.1\" 200 -\n"
          ]
        },
        {
          "output_type": "stream",
          "name": "stdout",
          "text": [
            "{\n",
            "  \"question_number\": 5,\n",
            "  \"question\": \"______________ saves time and reduces testing time in software development by providing pre-written code.\",\n",
            "  \"answer\": \"DLL\",\n",
            "  \"obtained_marks\": 1,\n",
            "  \"marks\": 1,\n",
            "  \"explanation\": \"The answer provided is correct. Program Libraries does save time and reduce testing time in software development by providing pre-written code.\"\n",
            "}\n"
          ]
        },
        {
          "output_type": "stream",
          "name": "stderr",
          "text": [
            "INFO:werkzeug:127.0.0.1 - - [02/May/2024 23:13:04] \"GET / HTTP/1.1\" 200 -\n",
            "INFO:werkzeug:127.0.0.1 - - [02/May/2024 23:13:05] \"\u001b[33mGET /main.css HTTP/1.1\u001b[0m\" 404 -\n",
            "INFO:werkzeug:127.0.0.1 - - [02/May/2024 23:13:05] \"\u001b[33mGET /main.js HTTP/1.1\u001b[0m\" 404 -\n"
          ]
        },
        {
          "output_type": "stream",
          "name": "stdout",
          "text": [
            "[{'questionNumber': 1, 'question': 'Question 1 (mcq)\\n              Which of the following is NOT a key task of memory management in an operating system?', 'answer': 'Provision of usernames and passwords', 'marks': '2', 'marking_scheme': '2 marks for correct answer (either None or Provision of usernames and passwords)'}, {'questionNumber': 2, 'question': 'Question 2 (fill_in_the_blank)\\n              The _________________ in an operating system controls access to data sent to and from peripherals.', 'answer': 'kernel', 'marks': '1', 'marking_scheme': '1 mark for correct answer (Hardware Management)'}, {'questionNumber': 3, 'question': 'Question 3 (descriptive)\\n              Explain the process of fragmentation in file storage and the role of defragmentation software in mitigating its effects.', 'answer': 'idk man', 'marks': '5', 'marking_scheme': '5 marks for a clear and comprehensive explanation of fragmentation and the role of defragmentation software'}, {'questionNumber': 4, 'question': 'Question 4 (mcq)\\n              Which type of language translator converts a high-level language program into machine code line-by-line?', 'answer': 'Interpreter', 'marks': '2', 'marking_scheme': '2 marks for correct answer (Interpreter)'}, {'questionNumber': 5, 'question': 'Question 5 (fill_in_the_blank)\\n              ______________ saves time and reduces testing time in software development by providing pre-written code.', 'answer': 'DLL', 'marks': '1', 'marking_scheme': '1 mark for correct answer (Program Libraries)'}]\n",
            "{\n",
            "  \"question_number\": 1,\n",
            "  \"question\": \"Which of the following is NOT a key task of memory management in an operating system?\",\n",
            "  \"answer\": \"Provision of usernames and passwords\",\n",
            "  \"obtained_marks\": 2,\n",
            "  \"marks\": 2,\n",
            "  \"explanation\": \"The answer is correct. Provision of usernames and passwords is not a key task of memory management in an operating system.\"\n",
            "}\n",
            "{\n",
            "  \"question_number\": 2,\n",
            "  \"question\": \"The _________________ in an operating system controls access to data sent to and from peripherals.\",\n",
            "  \"answer\": \"kernel\",\n",
            "  \"obtained_marks\": 1,\n",
            "  \"marks\": 1,\n",
            "  \"explanation\": \"The provided answer, \\\"kernel\\\", is correct. In an operating system, the kernel is responsible for controlling access to data sent to and from peripherals, hence deserves full marks.\"\n",
            "}\n",
            "{\n",
            "  \"question_number\": 3,\n",
            "  \"question\": \"Explain the process of fragmentation in file storage and the role of defragmentation software in mitigating its effects.\",\n",
            "  \"answer\": \"idk man\",\n",
            "  \"obtained_marks\": 0,\n",
            "  \"marks\": 5,\n",
            "  \"explanation\": \"The answer provided does not address the question and does not provide any explanation of fragmentation or the role of defragmentation software.\"\n",
            "}\n",
            "{\n",
            "  \"question_number\": 4,\n",
            "  \"question\": \"Which type of language translator converts a high-level language program into machine code line-by-line?\",\n",
            "  \"answer\": \"Interpreter\",\n",
            "  \"obtained_marks\": 2,\n",
            "  \"marks\": 2,\n",
            "  \"explanation\": \"The answer is correct. An interpreter is a type of language translator that converts a high-level language program into machine code line-by-line.\"\n",
            "}\n"
          ]
        },
        {
          "output_type": "stream",
          "name": "stderr",
          "text": [
            "INFO:werkzeug:127.0.0.1 - - [02/May/2024 23:13:55] \"POST /check-answers HTTP/1.1\" 200 -\n"
          ]
        },
        {
          "output_type": "stream",
          "name": "stdout",
          "text": [
            "{\n",
            "  \"question_number\": 5,\n",
            "  \"question\": \"______________ saves time and reduces testing time in software development by providing pre-written code.\",\n",
            "  \"answer\": \"DLL\",\n",
            "  \"obtained_marks\": 1,\n",
            "  \"marks\": 1,\n",
            "  \"explanation\": \"The answer provided, \\\"DLL\\\", is correct. DLL (Dynamic Link Library) is a type of program library that contains pre-written code that can be used by other programs. This can save time and reduce testing time in software development, as developers do not need to write the code themselves and can instead reuse the code from the library.\"\n",
            "}\n",
            "[{'questionNumber': 1, 'question': 'Question 1 (mcq)\\n              Which of the following is NOT a key task of memory management in an operating system?\\n            2/2', 'answer': 'Provision of usernames and passwords', 'marks': '2', 'marking_scheme': '2 marks for correct answer (either None or Provision of usernames and passwords)'}, {'questionNumber': 2, 'question': 'Question 2 (fill_in_the_blank)\\n              The _________________ in an operating system controls access to data sent to and from peripherals.\\n            1/1', 'answer': 'kernel', 'marks': '1', 'marking_scheme': '1 mark for correct answer (Hardware Management)'}, {'questionNumber': 3, 'question': 'Question 3 (descriptive)\\n              Explain the process of fragmentation in file storage and the role of defragmentation software in mitigating its effects.\\n            0/5', 'answer': 'File fragmentation scatters parts of files across non-contiguous disk sectors, slowing read/write operations. Defragmentation software reorganizes fragmented files into contiguous blocks, optimizing disk performance and reducing wear and tear. Regular defragmentation ensures efficient storage usage and maintains system responsiveness.', 'marks': '5', 'marking_scheme': '5 marks for a clear and comprehensive explanation of fragmentation and the role of defragmentation software'}, {'questionNumber': 4, 'question': 'Question 4 (mcq)\\n              Which type of language translator converts a high-level language program into machine code line-by-line?\\n            2/2', 'answer': 'Interpreter', 'marks': '2', 'marking_scheme': '2 marks for correct answer (Interpreter)'}, {'questionNumber': 5, 'question': 'Question 5 (fill_in_the_blank)\\n              ______________ saves time and reduces testing time in software development by providing pre-written code.\\n            1/1', 'answer': 'DLL', 'marks': '1', 'marking_scheme': '1 mark for correct answer (Program Libraries)'}]\n",
            "{\n",
            "  \"question_number\": 1,\n",
            "  \"question\": \"Question 1 (mcq)\\nWhich of the following is NOT a key task of memory management in an operating system?\\n2/2\",\n",
            "  \"answer\": \"Provision of usernames and passwords\",\n",
            "  \"obtained_marks\": 2,\n",
            "  \"marks\": 2,\n",
            "  \"explanation\": \"The answer is correct. Provision of usernames and passwords is not a key task of memory management in an operating system.\"\n",
            "}\n",
            "{\n",
            "  \"question_number\": 2,\n",
            "  \"question\": \"The _________________ in an operating system controls access to data sent to and from peripherals.\",\n",
            "  \"answer\": \"kernel\",\n",
            "  \"obtained_marks\": 1,\n",
            "  \"marks\": 1,\n",
            "  \"explanation\": \"The answer is correct as the kernel is responsible for controlling access to data sent to and from peripherals.\"\n",
            "}\n",
            "{\n",
            "  \"question_number\": 3,\n",
            "  \"question\": \"Explain the process of fragmentation in file storage and the role of defragmentation software in mitigating its effects.\",\n",
            "  \"answer\": \"File fragmentation scatters parts of files across non-contiguous disk sectors, slowing read/write operations. Defragmentation software reorganizes fragmented files into contiguous blocks, optimizing disk performance and reducing wear and tear. Regular defragmentation ensures efficient storage usage and maintains system responsiveness.\",\n",
            "  \"obtained_marks\": 5,\n",
            "  \"marks\": 5,\n",
            "  \"explanation\": \"The answer provided demonstrates a clear understanding of the concept of fragmentation and the role of defragmentation software. It accurately describes how fragmentation occurs and how defragmentation software addresses its effects, leading to improved disk performance and system responsiveness. Therefore, the answer deserves the full 5 marks as per the marking scheme.\"\n",
            "}\n",
            "{\n",
            "  \"question_number\": 4,\n",
            "  \"question\": \"Which type of language translator converts a high-level language program into machine code line-by-line?\",\n",
            "  \"answer\": \"Interpreter\",\n",
            "  \"obtained_marks\": 2,\n",
            "  \"marks\": 2,\n",
            "  \"explanation\": \"The provided answer, \\\"Interpreter\\\", correctly describes the role of a language translator that converts a high-level language program into machine code line-by-line. The marking scheme indicated 2 marks for this correct answer, and thus the system has awarded the full 2 marks.\"\n",
            "}\n"
          ]
        },
        {
          "output_type": "stream",
          "name": "stderr",
          "text": [
            "INFO:werkzeug:127.0.0.1 - - [02/May/2024 23:14:19] \"POST /check-answers HTTP/1.1\" 200 -\n"
          ]
        },
        {
          "output_type": "stream",
          "name": "stdout",
          "text": [
            "{\n",
            "  \"question_number\": 5,\n",
            "  \"question\": \"______________ saves time and reduces testing time in software development by providing pre-written code.\",\n",
            "  \"answer\": \"DLL\",\n",
            "  \"obtained_marks\": 1,\n",
            "  \"marks\": 1,\n",
            "  \"explanation\": \"The answer \\\"DLL\\\" is correct because it stands for Dynamic Link Library, which is a type of program library that contains pre-written code that can be used by other programs.\"\n",
            "}\n"
          ]
        }
      ],
      "source": [
        "from flask import Flask, render_template, request, jsonify\n",
        "\n",
        "app = Flask(__name__)\n",
        "public_url =  ngrok.connect(port).public_url\n",
        "test_title = \"TestWizard\"\n",
        "\n",
        "@app.route(\"/\")\n",
        "def home():\n",
        "    # return f\"Running Flask on Google Colab!\"\n",
        "    return render_template(\"test_screen.html\", questions=questions, test_title=test_title, public_url=public_url)\n",
        "\n",
        "@app.route(\"/check-answers\", methods=[\"POST\"])\n",
        "def check_answer_script():\n",
        "    if request.is_json:\n",
        "          data = request.json\n",
        "\n",
        "          answer_script = data.get('answer_script')\n",
        "          answer_script_text = data.get('answer_script_text')\n",
        "          prepared_answer_script = prepare_answer_script(answer_script, questions)\n",
        "          print(prepared_answer_script)\n",
        "          graded_answers = grade_answers(prepared_answer_script)\n",
        "\n",
        "          return jsonify({\n",
        "              'message': 'Graded successfully.',\n",
        "              'graded_answers': graded_answers\n",
        "          }), 200\n",
        "    else:\n",
        "      return jsonify({'error': 'Invalid request. Expected JSON data.'}), 400\n",
        "\n",
        "print(f\"To acces the Gloable link please click {public_url}\")\n",
        "\n",
        "app.run(port=port)"
      ]
    }
  ],
  "metadata": {
    "colab": {
      "provenance": []
    },
    "kernelspec": {
      "display_name": "Python 3",
      "name": "python3"
    },
    "language_info": {
      "name": "python"
    }
  },
  "nbformat": 4,
  "nbformat_minor": 0
}